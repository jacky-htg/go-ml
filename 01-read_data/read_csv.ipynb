{
 "cells": [
  {
   "cell_type": "markdown",
   "id": "58bc6a57-2630-4963-8f18-c916c358ab57",
   "metadata": {},
   "source": [
    "# Membaca File CSV"
   ]
  },
  {
   "cell_type": "markdown",
   "id": "f107c89d-802b-4166-b5ea-7057aa320af3",
   "metadata": {},
   "source": [
    "## ReadAll\n",
    "ReadAll akan meload seluruh isi file ke dalam memori. Jika menggunakan metode ini, pastikan file yang dibaca tidak terlalu besar agar tidak membuat memory penuh."
   ]
  },
  {
   "cell_type": "code",
   "execution_count": 1,
   "id": "2c30cea7-78c0-46ba-b3df-8dd2039816d6",
   "metadata": {},
   "outputs": [
    {
     "name": "stdout",
     "output_type": "stream",
     "text": [
      "[[Sepal Length Sepal Width Petal Length Petal Width Species] [5.1 3.5 1.4 0.2 Iris-setosa] [4.9 3.0 1.4 0.2 Iris-setosa] [4.7 3.2 1.3 0.2 Iris-setosa] [4.6 3.1 1.5 0.2 Iris-setosa] [5.0 3.6 1.4 0.2 Iris-setosa] [5.4 3.9 1.7 0.4 Iris-setosa] [4.6 3.4 1.4 0.3 Iris-setosa] [5.0 3.4 1.5 0.2 Iris-setosa] [4.4 2.9 1.4 0.2 Iris-setosa] [4.9 3.1 1.5 0.1 Iris-setosa] [5.4 3.7 1.5 0.2 Iris-setosa] [4.8 3.4 1.6 0.2 Iris-setosa] [4.8 3.0 1.4 0.1 Iris-setosa] [4.3 3.0 1.1 0.1 Iris-setosa] [5.8 4.0 1.2 0.2 Iris-setosa] [5.7 4.4 1.5 0.4 Iris-setosa] [5.4 3.9 1.3 0.4 Iris-setosa] [5.1 3.5 1.4 0.3 Iris-setosa] [5.7 3.8 1.7 0.3 Iris-setosa] [5.1 3.8 1.5 0.3 Iris-setosa] [5.4 3.4 1.7 0.2 Iris-setosa] [5.1 3.7 1.5 0.4 Iris-setosa] [4.6 3.6 1.0 0.2 Iris-setosa] [5.1 3.3 1.7 0.5 Iris-setosa] [4.8 3.4 1.9 0.2 Iris-setosa] [5.0 3.0 1.6 0.2 Iris-setosa] [5.0 3.4 1.6 0.4 Iris-setosa] [5.2 3.5 1.5 0.2 Iris-setosa] [5.2 3.4 1.4 0.2 Iris-setosa] [4.7 3.2 1.6 0.2 Iris-setosa] [4.8 3.1 1.6 0.2 Iris-setosa] [5.4 3.4 1.5 0.4 Iris-setosa] [5.2 4.1 1.5 0.1 Iris-setosa] [5.5 4.2 1.4 0.2 Iris-setosa] [4.9 3.1 1.5 0.1 Iris-setosa] [5.0 3.2 1.2 0.2 Iris-setosa] [5.5 3.5 1.3 0.2 Iris-setosa] [4.9 3.1 1.5 0.1 Iris-setosa] [4.4 3.0 1.3 0.2 Iris-setosa] [5.1 3.4 1.5 0.2 Iris-setosa] [5.0 3.5 1.3 0.3 Iris-setosa] [4.5 2.3 1.3 0.3 Iris-setosa] [4.4 3.2 1.3 0.2 Iris-setosa] [5.0 3.5 1.6 0.6 Iris-setosa] [5.1 3.8 1.9 0.4 Iris-setosa] [4.8 3.0 1.4 0.3 Iris-setosa] [5.1 3.8 1.6 0.2 Iris-setosa] [4.6 3.2 1.4 0.2 Iris-setosa] [5.3 3.7 1.5 0.2 Iris-setosa] [5.0 3.3 1.4 0.2 Iris-setosa] [7.0 3.2 4.7 1.4 Iris-versicolor] [6.4 3.2 4.5 1.5 Iris-versicolor] [6.9 3.1 4.9 1.5 Iris-versicolor] [5.5 2.3 4.0 1.3 Iris-versicolor] [6.5 2.8 4.6 1.5 Iris-versicolor] [5.7 2.8 4.5 1.3 Iris-versicolor] [6.3 3.3 4.7 1.6 Iris-versicolor] [4.9 2.4 3.3 1.0 Iris-versicolor] [6.6 2.9 4.6 1.3 Iris-versicolor] [5.2 2.7 3.9 1.4 Iris-versicolor] [5.0 2.0 3.5 1.0 Iris-versicolor] [5.9 3.0 4.2 1.5 Iris-versicolor] [6.0 2.2 4.0 1.0 Iris-versicolor] [6.1 2.9 4.7 1.4 Iris-versicolor] [5.6 2.9 3.6 1.3 Iris-versicolor] [6.7 3.1 4.4 1.4 Iris-versicolor] [5.6 3.0 4.5 1.5 Iris-versicolor] [5.8 2.7 4.1 1.0 Iris-versicolor] [6.2 2.2 4.5 1.5 Iris-versicolor] [5.6 2.5 3.9 1.1 Iris-versicolor] [5.9 3.2 4.8 1.8 Iris-versicolor] [6.1 2.8 4.0 1.3 Iris-versicolor] [6.3 2.5 4.9 1.5 Iris-versicolor] [6.1 2.8 4.7 1.2 Iris-versicolor] [6.4 2.9 4.3 1.3 Iris-versicolor] [6.6 3.0 4.4 1.4 Iris-versicolor] [6.8 2.8 4.8 1.4 Iris-versicolor] [6.7 3.0 5.0 1.7 Iris-versicolor] [6.0 2.9 4.5 1.5 Iris-versicolor] [5.7 2.6 3.5 1.0 Iris-versicolor] [5.5 2.4 3.8 1.1 Iris-versicolor] [5.5 2.4 3.7 1.0 Iris-versicolor] [5.8 2.7 3.9 1.2 Iris-versicolor] [6.0 2.7 5.1 1.6 Iris-versicolor] [5.4 3.0 4.5 1.5 Iris-versicolor] [6.0 3.4 4.5 1.6 Iris-versicolor] [6.7 3.1 4.7 1.5 Iris-versicolor] [6.3 2.3 4.4 1.3 Iris-versicolor] [5.6 3.0 4.1 1.3 Iris-versicolor] [5.5 2.5 4.0 1.3 Iris-versicolor] [5.5 2.6 4.4 1.2 Iris-versicolor] [6.1 3.0 4.6 1.4 Iris-versicolor] [5.8 2.6 4.0 1.2 Iris-versicolor] [5.0 2.3 3.3 1.0 Iris-versicolor] [5.6 2.7 4.2 1.3 Iris-versicolor] [5.7 3.0 4.2 1.2 Iris-versicolor] [5.7 2.9 4.2 1.3 Iris-versicolor] [6.2 2.9 4.3 1.3 Iris-versicolor] [5.1 2.5 3.0 1.1 Iris-versicolor] [5.7 2.8 4.1 1.3 Iris-versicolor] [6.3 3.3 6.0 2.5 Iris-virginica] [5.8 2.7 5.1 1.9 Iris-virginica] [7.1 3.0 5.9 2.1 Iris-virginica] [6.3 2.9 5.6 1.8 Iris-virginica] [6.5 3.0 5.8 2.2 Iris-virginica] [7.6 3.0 6.6 2.1 Iris-virginica] [4.9 2.5 4.5 1.7 Iris-virginica] [7.3 2.9 6.3 1.8 Iris-virginica] [6.7 2.5 5.8 1.8 Iris-virginica] [7.2 3.6 6.1 2.5 Iris-virginica] [6.5 3.2 5.1 2.0 Iris-virginica] [6.4 2.7 5.3 1.9 Iris-virginica] [6.8 3.0 5.5 2.1 Iris-virginica] [5.7 2.5 5.0 2.0 Iris-virginica] [5.8 2.8 5.1 2.4 Iris-virginica] [6.4 3.2 5.3 2.3 Iris-virginica] [6.5 3.0 5.5 1.8 Iris-virginica] [7.7 3.8 6.7 2.2 Iris-virginica] [7.7 2.6 6.9 2.3 Iris-virginica] [6.0 2.2 5.0 1.5 Iris-virginica] [6.9 3.2 5.7 2.3 Iris-virginica] [5.6 2.8 4.9 2.0 Iris-virginica] [7.7 2.8 6.7 2.0 Iris-virginica] [6.3 2.7 4.9 1.8 Iris-virginica] [6.7 3.3 5.7 2.1 Iris-virginica] [7.2 3.2 6.0 1.8 Iris-virginica] [6.2 2.8 4.8 1.8 Iris-virginica] [6.1 3.0 4.9 1.8 Iris-virginica] [6.4 2.8 5.6 2.1 Iris-virginica] [7.2 3.0 5.8 1.6 Iris-virginica] [7.4 2.8 6.1 1.9 Iris-virginica] [7.9 3.8 6.4 2.0 Iris-virginica] [6.4 2.8 5.6 2.2 Iris-virginica] [6.3 2.8 5.1 1.5 Iris-virginica] [6.1 2.6 5.6 1.4 Iris-virginica] [7.7 3.0 6.1 2.3 Iris-virginica] [6.3 3.4 5.6 2.4 Iris-virginica] [6.4 3.1 5.5 1.8 Iris-virginica] [6.0 3.0 4.8 1.8 Iris-virginica] [6.9 3.1 5.4 2.1 Iris-virginica] [6.7 3.1 5.6 2.4 Iris-virginica] [6.9 3.1 5.1 2.3 Iris-virginica] [5.8 2.7 5.1 1.9 Iris-virginica] [6.8 3.2 5.9 2.3 Iris-virginica] [6.7 3.3 5.7 2.5 Iris-virginica] [6.7 3.0 5.2 2.3 Iris-virginica] [6.3 2.5 5.0 1.9 Iris-virginica] [6.5 3.0 5.2 2.0 Iris-virginica] [6.2 3.4 5.4 2.3 Iris-virginica] [5.9 3.0 5.1 1.8 Iris-virginica]]\n"
     ]
    }
   ],
   "source": [
    "%%\n",
    "f, err := os.Open(\"../data/iris.csv\") \n",
    "if err != nil { \n",
    "    log.Fatal(err) \n",
    "}\n",
    "\n",
    "defer f.Close() \n",
    "\n",
    "// Create a new CSV reader reading from the opened file. \n",
    "reader := csv.NewReader(f)\n",
    "\n",
    "// Assume we don't know the number of fields per line. By setting \n",
    "// FieldsPerRecord negative, each row may have a variable \n",
    "// number of fields. \n",
    "reader.FieldsPerRecord = -1 \n",
    "\n",
    "// Read in all of the CSV records. \n",
    "rawCSVData, err := reader.ReadAll() \n",
    "if err != nil { \n",
    "    log.Fatal(err) \n",
    "}\n",
    "\n",
    "fmt.Println(rawCSVData)"
   ]
  },
  {
   "cell_type": "markdown",
   "id": "4efed4d4-4212-4ec1-894e-d9d65c6fc479",
   "metadata": {},
   "source": [
    "## Read the Record One by One\n",
    "Membaca baris per baris dengan looping for. Pastikan jika posisi sudah End of File (EOF) proses pembacaan file dihentikan. Jika ingin mengabaikan informasi berapa field dalam 1 baris, isi FieldsPerRecord dengan value -1. Namun jika ingin menghandle informasi ini, isi value FieldsPerRecord dengan jumlah field yang sesuai, dan juga menghandle error yang terjadi jika ada baris yang jumlah field-nya tidak sesuai."
   ]
  },
  {
   "cell_type": "code",
   "execution_count": 2,
   "id": "0a2b0100-344c-492f-97d9-c73194470fe6",
   "metadata": {},
   "outputs": [
    {
     "name": "stdout",
     "output_type": "stream",
     "text": [
      "[[Sepal Length Sepal Width Petal Length Petal Width Species] [5.1 3.5 1.4 0.2 Iris-setosa] [4.9 3.0 1.4 0.2 Iris-setosa] [4.7 3.2 1.3 0.2 Iris-setosa] [4.6 3.1 1.5 0.2 Iris-setosa] [5.0 3.6 1.4 0.2 Iris-setosa] [5.4 3.9 1.7 0.4 Iris-setosa] [4.6 3.4 1.4 0.3 Iris-setosa] [5.0 3.4 1.5 0.2 Iris-setosa] [4.4 2.9 1.4 0.2 Iris-setosa] [4.9 3.1 1.5 0.1 Iris-setosa] [5.4 3.7 1.5 0.2 Iris-setosa] [4.8 3.4 1.6 0.2 Iris-setosa] [4.8 3.0 1.4 0.1 Iris-setosa] [4.3 3.0 1.1 0.1 Iris-setosa] [5.8 4.0 1.2 0.2 Iris-setosa] [5.7 4.4 1.5 0.4 Iris-setosa] [5.4 3.9 1.3 0.4 Iris-setosa] [5.1 3.5 1.4 0.3 Iris-setosa] [5.7 3.8 1.7 0.3 Iris-setosa] [5.1 3.8 1.5 0.3 Iris-setosa] [5.4 3.4 1.7 0.2 Iris-setosa] [5.1 3.7 1.5 0.4 Iris-setosa] [4.6 3.6 1.0 0.2 Iris-setosa] [5.1 3.3 1.7 0.5 Iris-setosa] [4.8 3.4 1.9 0.2 Iris-setosa] [5.0 3.0 1.6 0.2 Iris-setosa] [5.0 3.4 1.6 0.4 Iris-setosa] [5.2 3.5 1.5 0.2 Iris-setosa] [5.2 3.4 1.4 0.2 Iris-setosa] [4.7 3.2 1.6 0.2 Iris-setosa] [4.8 3.1 1.6 0.2 Iris-setosa] [5.4 3.4 1.5 0.4 Iris-setosa] [5.2 4.1 1.5 0.1 Iris-setosa] [5.5 4.2 1.4 0.2 Iris-setosa] [4.9 3.1 1.5 0.1 Iris-setosa] [5.0 3.2 1.2 0.2 Iris-setosa] [5.5 3.5 1.3 0.2 Iris-setosa] [4.9 3.1 1.5 0.1 Iris-setosa] [4.4 3.0 1.3 0.2 Iris-setosa] [5.1 3.4 1.5 0.2 Iris-setosa] [5.0 3.5 1.3 0.3 Iris-setosa] [4.5 2.3 1.3 0.3 Iris-setosa] [4.4 3.2 1.3 0.2 Iris-setosa] [5.0 3.5 1.6 0.6 Iris-setosa] [5.1 3.8 1.9 0.4 Iris-setosa] [4.8 3.0 1.4 0.3 Iris-setosa] [5.1 3.8 1.6 0.2 Iris-setosa] [4.6 3.2 1.4 0.2 Iris-setosa] [5.3 3.7 1.5 0.2 Iris-setosa] [5.0 3.3 1.4 0.2 Iris-setosa] [7.0 3.2 4.7 1.4 Iris-versicolor] [6.4 3.2 4.5 1.5 Iris-versicolor] [6.9 3.1 4.9 1.5 Iris-versicolor] [5.5 2.3 4.0 1.3 Iris-versicolor] [6.5 2.8 4.6 1.5 Iris-versicolor] [5.7 2.8 4.5 1.3 Iris-versicolor] [6.3 3.3 4.7 1.6 Iris-versicolor] [4.9 2.4 3.3 1.0 Iris-versicolor] [6.6 2.9 4.6 1.3 Iris-versicolor] [5.2 2.7 3.9 1.4 Iris-versicolor] [5.0 2.0 3.5 1.0 Iris-versicolor] [5.9 3.0 4.2 1.5 Iris-versicolor] [6.0 2.2 4.0 1.0 Iris-versicolor] [6.1 2.9 4.7 1.4 Iris-versicolor] [5.6 2.9 3.6 1.3 Iris-versicolor] [6.7 3.1 4.4 1.4 Iris-versicolor] [5.6 3.0 4.5 1.5 Iris-versicolor] [5.8 2.7 4.1 1.0 Iris-versicolor] [6.2 2.2 4.5 1.5 Iris-versicolor] [5.6 2.5 3.9 1.1 Iris-versicolor] [5.9 3.2 4.8 1.8 Iris-versicolor] [6.1 2.8 4.0 1.3 Iris-versicolor] [6.3 2.5 4.9 1.5 Iris-versicolor] [6.1 2.8 4.7 1.2 Iris-versicolor] [6.4 2.9 4.3 1.3 Iris-versicolor] [6.6 3.0 4.4 1.4 Iris-versicolor] [6.8 2.8 4.8 1.4 Iris-versicolor] [6.7 3.0 5.0 1.7 Iris-versicolor] [6.0 2.9 4.5 1.5 Iris-versicolor] [5.7 2.6 3.5 1.0 Iris-versicolor] [5.5 2.4 3.8 1.1 Iris-versicolor] [5.5 2.4 3.7 1.0 Iris-versicolor] [5.8 2.7 3.9 1.2 Iris-versicolor] [6.0 2.7 5.1 1.6 Iris-versicolor] [5.4 3.0 4.5 1.5 Iris-versicolor] [6.0 3.4 4.5 1.6 Iris-versicolor] [6.7 3.1 4.7 1.5 Iris-versicolor] [6.3 2.3 4.4 1.3 Iris-versicolor] [5.6 3.0 4.1 1.3 Iris-versicolor] [5.5 2.5 4.0 1.3 Iris-versicolor] [5.5 2.6 4.4 1.2 Iris-versicolor] [6.1 3.0 4.6 1.4 Iris-versicolor] [5.8 2.6 4.0 1.2 Iris-versicolor] [5.0 2.3 3.3 1.0 Iris-versicolor] [5.6 2.7 4.2 1.3 Iris-versicolor] [5.7 3.0 4.2 1.2 Iris-versicolor] [5.7 2.9 4.2 1.3 Iris-versicolor] [6.2 2.9 4.3 1.3 Iris-versicolor] [5.1 2.5 3.0 1.1 Iris-versicolor] [5.7 2.8 4.1 1.3 Iris-versicolor] [6.3 3.3 6.0 2.5 Iris-virginica] [5.8 2.7 5.1 1.9 Iris-virginica] [7.1 3.0 5.9 2.1 Iris-virginica] [6.3 2.9 5.6 1.8 Iris-virginica] [6.5 3.0 5.8 2.2 Iris-virginica] [7.6 3.0 6.6 2.1 Iris-virginica] [4.9 2.5 4.5 1.7 Iris-virginica] [7.3 2.9 6.3 1.8 Iris-virginica] [6.7 2.5 5.8 1.8 Iris-virginica] [7.2 3.6 6.1 2.5 Iris-virginica] [6.5 3.2 5.1 2.0 Iris-virginica] [6.4 2.7 5.3 1.9 Iris-virginica] [6.8 3.0 5.5 2.1 Iris-virginica] [5.7 2.5 5.0 2.0 Iris-virginica] [5.8 2.8 5.1 2.4 Iris-virginica] [6.4 3.2 5.3 2.3 Iris-virginica] [6.5 3.0 5.5 1.8 Iris-virginica] [7.7 3.8 6.7 2.2 Iris-virginica] [7.7 2.6 6.9 2.3 Iris-virginica] [6.0 2.2 5.0 1.5 Iris-virginica] [6.9 3.2 5.7 2.3 Iris-virginica] [5.6 2.8 4.9 2.0 Iris-virginica] [7.7 2.8 6.7 2.0 Iris-virginica] [6.3 2.7 4.9 1.8 Iris-virginica] [6.7 3.3 5.7 2.1 Iris-virginica] [7.2 3.2 6.0 1.8 Iris-virginica] [6.2 2.8 4.8 1.8 Iris-virginica] [6.1 3.0 4.9 1.8 Iris-virginica] [6.4 2.8 5.6 2.1 Iris-virginica] [7.2 3.0 5.8 1.6 Iris-virginica] [7.4 2.8 6.1 1.9 Iris-virginica] [7.9 3.8 6.4 2.0 Iris-virginica] [6.4 2.8 5.6 2.2 Iris-virginica] [6.3 2.8 5.1 1.5 Iris-virginica] [6.1 2.6 5.6 1.4 Iris-virginica] [7.7 3.0 6.1 2.3 Iris-virginica] [6.3 3.4 5.6 2.4 Iris-virginica] [6.4 3.1 5.5 1.8 Iris-virginica] [6.0 3.0 4.8 1.8 Iris-virginica] [6.9 3.1 5.4 2.1 Iris-virginica] [6.7 3.1 5.6 2.4 Iris-virginica] [6.9 3.1 5.1 2.3 Iris-virginica] [5.8 2.7 5.1 1.9 Iris-virginica] [6.8 3.2 5.9 2.3 Iris-virginica] [6.7 3.3 5.7 2.5 Iris-virginica] [6.7 3.0 5.2 2.3 Iris-virginica] [6.3 2.5 5.0 1.9 Iris-virginica] [6.5 3.0 5.2 2.0 Iris-virginica] [6.2 3.4 5.4 2.3 Iris-virginica] [5.9 3.0 5.1 1.8 Iris-virginica]]\n"
     ]
    }
   ],
   "source": [
    "%%\n",
    "f, err := os.Open(\"../data/iris.csv\") \n",
    "if err != nil { \n",
    "    log.Fatal(err) \n",
    "}\n",
    "\n",
    "defer f.Close() \n",
    "\n",
    "// Create a new CSV reader reading from the opened file. \n",
    "reader := csv.NewReader(f)\n",
    "reader.FieldsPerRecord = -1\n",
    "\n",
    "// rawCSVData will hold our successfully parsed rows. \n",
    "var rawCSVData [][]string \n",
    "\n",
    "// Read in the records one by one. \n",
    "for {\n",
    "    // Read in a row. Check if we are at the end of the file. \n",
    "    record, err := reader.Read() \n",
    "    if err == io.EOF { \n",
    "        break \n",
    "    }\n",
    "\n",
    "    // Append the record to our dataset. \n",
    "    rawCSVData = append(rawCSVData, record) \n",
    "}\n",
    "\n",
    "fmt.Println(rawCSVData)"
   ]
  },
  {
   "cell_type": "markdown",
   "id": "a30f460d-08a8-4fb3-86fe-4d0e98b3afa4",
   "metadata": {},
   "source": [
    "Berikut contoh jika ingin memastikan jumlah field per baris sesuai dengan yang diinginkan. "
   ]
  },
  {
   "cell_type": "code",
   "execution_count": 3,
   "id": "8719dc84-2ffc-48f6-9a74-8133af9060c9",
   "metadata": {},
   "outputs": [
    {
     "name": "stdout",
     "output_type": "stream",
     "text": [
      "[[Sepal Length Sepal Width Petal Length Petal Width Species] [5.1 3.5 1.4 0.2 Iris-setosa] [4.9 3.0 1.4 0.2 Iris-setosa] [4.7 3.2 1.3 0.2 Iris-setosa] [4.6 3.1 1.5 0.2 Iris-setosa] [5.0 3.6 1.4 0.2 Iris-setosa] [5.4 3.9 1.7 0.4 Iris-setosa] [4.6 3.4 1.4 0.3 Iris-setosa] [5.0 3.4 1.5 0.2 Iris-setosa] [4.4 2.9 1.4 0.2 Iris-setosa] [4.9 3.1 1.5 0.1 Iris-setosa] [5.4 3.7 1.5 0.2 Iris-setosa] [4.8 3.4 1.6 0.2 Iris-setosa] [4.8 3.0 1.4 0.1 Iris-setosa] [4.3 3.0 1.1 0.1 Iris-setosa] [5.8 4.0 1.2 0.2 Iris-setosa] [5.7 4.4 1.5 0.4 Iris-setosa] [5.4 3.9 1.3 0.4 Iris-setosa] [5.1 3.5 1.4 0.3 Iris-setosa] [5.7 3.8 1.7 0.3 Iris-setosa] [5.1 3.8 1.5 0.3 Iris-setosa] [5.4 3.4 1.7 0.2 Iris-setosa] [5.1 3.7 1.5 0.4 Iris-setosa] [4.6 3.6 1.0 0.2 Iris-setosa] [5.1 3.3 1.7 0.5 Iris-setosa] [4.8 3.4 1.9 0.2 Iris-setosa] [5.0 3.0 1.6 0.2 Iris-setosa] [5.0 3.4 1.6 0.4 Iris-setosa] [5.2 3.5 1.5 0.2 Iris-setosa] [5.2 3.4 1.4 0.2 Iris-setosa] [4.7 3.2 1.6 0.2 Iris-setosa] [4.8 3.1 1.6 0.2 Iris-setosa] [5.4 3.4 1.5 0.4 Iris-setosa] [5.2 4.1 1.5 0.1 Iris-setosa] [5.5 4.2 1.4 0.2 Iris-setosa] [4.9 3.1 1.5 0.1 Iris-setosa] [5.0 3.2 1.2 0.2 Iris-setosa] [5.5 3.5 1.3 0.2 Iris-setosa] [4.9 3.1 1.5 0.1 Iris-setosa] [4.4 3.0 1.3 0.2 Iris-setosa] [5.1 3.4 1.5 0.2 Iris-setosa] [5.0 3.5 1.3 0.3 Iris-setosa] [4.5 2.3 1.3 0.3 Iris-setosa] [4.4 3.2 1.3 0.2 Iris-setosa] [5.0 3.5 1.6 0.6 Iris-setosa] [5.1 3.8 1.9 0.4 Iris-setosa] [4.8 3.0 1.4 0.3 Iris-setosa] [5.1 3.8 1.6 0.2 Iris-setosa] [4.6 3.2 1.4 0.2 Iris-setosa] [5.3 3.7 1.5 0.2 Iris-setosa] [5.0 3.3 1.4 0.2 Iris-setosa] [7.0 3.2 4.7 1.4 Iris-versicolor] [6.4 3.2 4.5 1.5 Iris-versicolor] [6.9 3.1 4.9 1.5 Iris-versicolor] [5.5 2.3 4.0 1.3 Iris-versicolor] [6.5 2.8 4.6 1.5 Iris-versicolor] [5.7 2.8 4.5 1.3 Iris-versicolor] [6.3 3.3 4.7 1.6 Iris-versicolor] [4.9 2.4 3.3 1.0 Iris-versicolor] [6.6 2.9 4.6 1.3 Iris-versicolor] [5.2 2.7 3.9 1.4 Iris-versicolor] [5.0 2.0 3.5 1.0 Iris-versicolor] [5.9 3.0 4.2 1.5 Iris-versicolor] [6.0 2.2 4.0 1.0 Iris-versicolor] [6.1 2.9 4.7 1.4 Iris-versicolor] [5.6 2.9 3.6 1.3 Iris-versicolor] [6.7 3.1 4.4 1.4 Iris-versicolor] [5.6 3.0 4.5 1.5 Iris-versicolor] [5.8 2.7 4.1 1.0 Iris-versicolor] [6.2 2.2 4.5 1.5 Iris-versicolor] [5.6 2.5 3.9 1.1 Iris-versicolor] [5.9 3.2 4.8 1.8 Iris-versicolor] [6.1 2.8 4.0 1.3 Iris-versicolor] [6.3 2.5 4.9 1.5 Iris-versicolor] [6.1 2.8 4.7 1.2 Iris-versicolor] [6.4 2.9 4.3 1.3 Iris-versicolor] [6.6 3.0 4.4 1.4 Iris-versicolor] [6.8 2.8 4.8 1.4 Iris-versicolor] [6.7 3.0 5.0 1.7 Iris-versicolor] [6.0 2.9 4.5 1.5 Iris-versicolor] [5.7 2.6 3.5 1.0 Iris-versicolor] [5.5 2.4 3.8 1.1 Iris-versicolor] [5.5 2.4 3.7 1.0 Iris-versicolor] [5.8 2.7 3.9 1.2 Iris-versicolor] [6.0 2.7 5.1 1.6 Iris-versicolor] [5.4 3.0 4.5 1.5 Iris-versicolor] [6.0 3.4 4.5 1.6 Iris-versicolor] [6.7 3.1 4.7 1.5 Iris-versicolor] [6.3 2.3 4.4 1.3 Iris-versicolor] [5.6 3.0 4.1 1.3 Iris-versicolor] [5.5 2.5 4.0 1.3 Iris-versicolor] [5.5 2.6 4.4 1.2 Iris-versicolor] [6.1 3.0 4.6 1.4 Iris-versicolor] [5.8 2.6 4.0 1.2 Iris-versicolor] [5.0 2.3 3.3 1.0 Iris-versicolor] [5.6 2.7 4.2 1.3 Iris-versicolor] [5.7 3.0 4.2 1.2 Iris-versicolor] [5.7 2.9 4.2 1.3 Iris-versicolor] [6.2 2.9 4.3 1.3 Iris-versicolor] [5.1 2.5 3.0 1.1 Iris-versicolor] [5.7 2.8 4.1 1.3 Iris-versicolor] [6.3 3.3 6.0 2.5 Iris-virginica] [5.8 2.7 5.1 1.9 Iris-virginica] [7.1 3.0 5.9 2.1 Iris-virginica] [6.3 2.9 5.6 1.8 Iris-virginica] [6.5 3.0 5.8 2.2 Iris-virginica] [7.6 3.0 6.6 2.1 Iris-virginica] [4.9 2.5 4.5 1.7 Iris-virginica] [7.3 2.9 6.3 1.8 Iris-virginica] [6.7 2.5 5.8 1.8 Iris-virginica] [7.2 3.6 6.1 2.5 Iris-virginica] [6.5 3.2 5.1 2.0 Iris-virginica] [6.4 2.7 5.3 1.9 Iris-virginica] [6.8 3.0 5.5 2.1 Iris-virginica] [5.7 2.5 5.0 2.0 Iris-virginica] [5.8 2.8 5.1 2.4 Iris-virginica] [6.4 3.2 5.3 2.3 Iris-virginica] [6.5 3.0 5.5 1.8 Iris-virginica] [7.7 3.8 6.7 2.2 Iris-virginica] [7.7 2.6 6.9 2.3 Iris-virginica] [6.0 2.2 5.0 1.5 Iris-virginica] [6.9 3.2 5.7 2.3 Iris-virginica] [5.6 2.8 4.9 2.0 Iris-virginica] [7.7 2.8 6.7 2.0 Iris-virginica] [6.3 2.7 4.9 1.8 Iris-virginica] [6.7 3.3 5.7 2.1 Iris-virginica] [7.2 3.2 6.0 1.8 Iris-virginica] [6.2 2.8 4.8 1.8 Iris-virginica] [6.1 3.0 4.9 1.8 Iris-virginica] [6.4 2.8 5.6 2.1 Iris-virginica] [7.2 3.0 5.8 1.6 Iris-virginica] [7.4 2.8 6.1 1.9 Iris-virginica] [7.9 3.8 6.4 2.0 Iris-virginica] [6.4 2.8 5.6 2.2 Iris-virginica] [6.3 2.8 5.1 1.5 Iris-virginica] [6.1 2.6 5.6 1.4 Iris-virginica] [7.7 3.0 6.1 2.3 Iris-virginica] [6.3 3.4 5.6 2.4 Iris-virginica] [6.4 3.1 5.5 1.8 Iris-virginica] [6.0 3.0 4.8 1.8 Iris-virginica] [6.9 3.1 5.4 2.1 Iris-virginica] [6.7 3.1 5.6 2.4 Iris-virginica] [6.9 3.1 5.1 2.3 Iris-virginica] [5.8 2.7 5.1 1.9 Iris-virginica] [6.8 3.2 5.9 2.3 Iris-virginica] [6.7 3.3 5.7 2.5 Iris-virginica] [6.7 3.0 5.2 2.3 Iris-virginica] [6.3 2.5 5.0 1.9 Iris-virginica] [6.5 3.0 5.2 2.0 Iris-virginica] [6.2 3.4 5.4 2.3 Iris-virginica] [5.9 3.0 5.1 1.8 Iris-virginica]]\n"
     ]
    }
   ],
   "source": [
    "%%\n",
    "f, err := os.Open(\"../data/iris.csv\") \n",
    "if err != nil { \n",
    "    log.Fatal(err) \n",
    "}\n",
    "\n",
    "defer f.Close() \n",
    "\n",
    "// Create a new CSV reader reading from the opened file. \n",
    "reader := csv.NewReader(f)\n",
    "reader.FieldsPerRecord = 5\n",
    "\n",
    "// rawCSVData will hold our successfully parsed rows. \n",
    "var rawCSVData [][]string \n",
    "\n",
    "// Read in the records one by one. \n",
    "for {\n",
    "    // Read in a row. Check if we are at the end of the file. \n",
    "    record, err := reader.Read() \n",
    "    if err == io.EOF { \n",
    "        break \n",
    "    }\n",
    "\n",
    "    // If we had a parsing error, log the error and move on. \n",
    "    if err != nil { \n",
    "        log.Println(err) \n",
    "        continue \n",
    "    }\n",
    "    \n",
    "    // Append the record to our dataset. \n",
    "    rawCSVData = append(rawCSVData, record) \n",
    "}\n",
    "\n",
    "fmt.Println(rawCSVData)"
   ]
  },
  {
   "cell_type": "markdown",
   "id": "d0a3f74c-021d-4629-b2f5-aa2a53fd8d1a",
   "metadata": {},
   "source": [
    "Berikut contoh kode untuk jumlah field dalam satu baris tidaks esuai dengan yang diharapkan"
   ]
  },
  {
   "cell_type": "code",
   "execution_count": 4,
   "id": "97dc3d8d-fca5-414a-abce-799010bfd94c",
   "metadata": {},
   "outputs": [
    {
     "name": "stdout",
     "output_type": "stream",
     "text": [
      "[[Sepal Length Sepal Width Petal Length Petal Width Species] [5.1 3.5 1.4 0.2 Iris-setosa] [4.9 3.0 1.4 0.2 Iris-setosa] [4.7 3.2 1.3 0.2 Iris-setosa] [4.6 3.1 1.5 0.2 Iris-setosa] [5.0 3.6 1.4 0.2 Iris-setosa] [5.4 3.9 1.7 0.4 Iris-setosa] [4.6 3.4 1.4 0.3 Iris-setosa] [5.0 3.4 1.5 0.2 Iris-setosa] [4.4 2.9 1.4 0.2 Iris-setosa] [4.9 3.1 1.5 0.1 Iris-setosa] [5.4 3.7 1.5 0.2 Iris-setosa] [4.8 3.4 1.6 0.2 Iris-setosa] [4.8 3.0 1.4 0.1 Iris-setosa] [4.3 3.0 1.1 0.1 Iris-setosa] [5.8 4.0 1.2 0.2 Iris-setosa] [5.7 4.4 1.5 0.4 Iris-setosa] [5.4 3.9 1.3 0.4 Iris-setosa] [5.1 3.5 1.4 0.3 Iris-setosa] [5.7 3.8 1.7 0.3 Iris-setosa] [5.1 3.8 1.5 0.3 Iris-setosa] [5.4 3.4 1.7 0.2 Iris-setosa] [5.1 3.7 1.5 0.4 Iris-setosa] [4.6 3.6 1.0 0.2 Iris-setosa] [5.1 3.3 1.7 0.5 Iris-setosa] [4.8 3.4 1.9 0.2 Iris-setosa] [5.0 3.0 1.6 0.2 Iris-setosa] [5.0 3.4 1.6 0.4 Iris-setosa] [5.2 3.5 1.5 0.2 Iris-setosa] [5.2 3.4 1.4 0.2 Iris-setosa] [4.7 3.2 1.6 0.2 Iris-setosa] [4.8 3.1 1.6 0.2 Iris-setosa] [5.4 3.4 1.5 0.4 Iris-setosa] [5.2 4.1 1.5 0.1 Iris-setosa] [5.5 4.2 1.4 0.2 Iris-setosa] [4.9 3.1 1.5 0.1 Iris-setosa] [5.0 3.2 1.2 0.2 Iris-setosa] [5.5 3.5 1.3 0.2 Iris-setosa] [4.9 3.1 1.5 0.1 Iris-setosa] [4.4 3.0 1.3 0.2 Iris-setosa] [5.1 3.4 1.5 0.2 Iris-setosa] [5.0 3.5 1.3 0.3 Iris-setosa] [4.5 2.3 1.3 0.3 Iris-setosa] [4.4 3.2 1.3 0.2 Iris-setosa] [5.0 3.5 1.6 0.6 Iris-setosa] [5.1 3.8 1.9 0.4 Iris-setosa] [4.8 3.0 1.4 0.3 Iris-setosa] [5.1 3.8 1.6 0.2 Iris-setosa] [4.6 3.2 1.4 0.2 Iris-setosa] [5.3 3.7 1.5 0.2 Iris-setosa] [5.0 3.3 1.4 0.2 Iris-setosa] [7.0 3.2 4.7 1.4 Iris-versicolor] [6.4 3.2 4.5 1.5 Iris-versicolor] [6.9 3.1 4.9 1.5 Iris-versicolor] [5.5 2.3 4.0 1.3 Iris-versicolor] [6.5 2.8 4.6 1.5 Iris-versicolor] [5.7 2.8 4.5 1.3 Iris-versicolor] [6.3 3.3 4.7 1.6 Iris-versicolor] [4.9 2.4 3.3 1.0 Iris-versicolor] [6.6 2.9 4.6 1.3 Iris-versicolor] [5.2 2.7 3.9 1.4 Iris-versicolor] [5.0 2.0 3.5 1.0 Iris-versicolor] [5.9 3.0 4.2 1.5 Iris-versicolor] [6.0 2.2 4.0 1.0 Iris-versicolor] [6.1 2.9 4.7 1.4 Iris-versicolor] [5.6 2.9 3.6 1.3 Iris-versicolor] [6.7 3.1 4.4 1.4 Iris-versicolor] [5.6 3.0 4.5 1.5 Iris-versicolor] [5.8 2.7 4.1 1.0 Iris-versicolor] [6.2 2.2 4.5 1.5 Iris-versicolor] [5.6 2.5 3.9 1.1 Iris-versicolor] [5.9 3.2 4.8 1.8 Iris-versicolor] [6.1 2.8 4.0 1.3 Iris-versicolor] [6.3 2.5 4.9 1.5 Iris-versicolor] [6.1 2.8 4.7 1.2 Iris-versicolor] [6.4 2.9 4.3 1.3 Iris-versicolor] [6.6 3.0 4.4 1.4 Iris-versicolor] [6.8 2.8 4.8 1.4 Iris-versicolor] [6.7 3.0 5.0 1.7 Iris-versicolor] [6.0 2.9 4.5 1.5 Iris-versicolor] [5.7 2.6 3.5 1.0 Iris-versicolor] [5.5 2.4 3.8 1.1 Iris-versicolor] [5.5 2.4 3.7 1.0 Iris-versicolor] [5.8 2.7 3.9 1.2 Iris-versicolor] [6.0 2.7 5.1 1.6 Iris-versicolor] [5.4 3.0 4.5 1.5 Iris-versicolor] [6.0 3.4 4.5 1.6 Iris-versicolor] [6.7 3.1 4.7 1.5 Iris-versicolor] [6.3 2.3 4.4 1.3 Iris-versicolor] [5.6 3.0 4.1 1.3 Iris-versicolor] [5.5 2.5 4.0 1.3 Iris-versicolor] [5.5 2.6 4.4 1.2 Iris-versicolor] [6.1 3.0 4.6 1.4 Iris-versicolor] [5.8 2.6 4.0 1.2 Iris-versicolor] [5.0 2.3 3.3 1.0 Iris-versicolor] [5.6 2.7 4.2 1.3 Iris-versicolor] [5.7 3.0 4.2 1.2 Iris-versicolor] [5.7 2.9 4.2 1.3 Iris-versicolor] [6.2 2.9 4.3 1.3 Iris-versicolor] [5.1 2.5 3.0 1.1 Iris-versicolor] [5.7 2.8 4.1 1.3 Iris-versicolor] [6.3 3.3 6.0 2.5 Iris-virginica] [5.8 2.7 5.1 1.9 Iris-virginica] [7.1 3.0 5.9 2.1 Iris-virginica] [6.3 2.9 5.6 1.8 Iris-virginica] [6.5 3.0 5.8 2.2 Iris-virginica] [7.6 3.0 6.6 2.1 Iris-virginica] [4.9 2.5 4.5 1.7 Iris-virginica] [7.3 2.9 6.3 1.8 Iris-virginica] [6.7 2.5 5.8 1.8 Iris-virginica] [7.2 3.6 6.1 2.5 Iris-virginica] [6.5 3.2 5.1 2.0 Iris-virginica] [6.4 2.7 5.3 1.9 Iris-virginica] [6.8 3.0 5.5 2.1 Iris-virginica] [5.7 2.5 5.0 2.0 Iris-virginica] [5.8 2.8 5.1 2.4 Iris-virginica] [6.4 3.2 5.3 2.3 Iris-virginica] [6.5 3.0 5.5 1.8 Iris-virginica] [7.7 3.8 6.7 2.2 Iris-virginica] [7.7 2.6 6.9 2.3 Iris-virginica] [6.0 2.2 5.0 1.5 Iris-virginica] [6.9 3.2 5.7 2.3 Iris-virginica] [5.6 2.8 4.9 2.0 Iris-virginica] [7.7 2.8 6.7 2.0 Iris-virginica] [6.3 2.7 4.9 1.8 Iris-virginica] [6.7 3.3 5.7 2.1 Iris-virginica] [7.2 3.2 6.0 1.8 Iris-virginica] [6.2 2.8 4.8 1.8 Iris-virginica] [6.1 3.0 4.9 1.8 Iris-virginica] [6.4 2.8 5.6 2.1 Iris-virginica] [7.2 3.0 5.8 1.6 Iris-virginica] [7.4 2.8 6.1 1.9 Iris-virginica] [7.9 3.8 6.4 2.0 Iris-virginica] [6.4 2.8 5.6 2.2 Iris-virginica] [6.3 2.8 5.1 1.5 Iris-virginica] [6.1 2.6 5.6 1.4 Iris-virginica] [7.7 3.0 6.1 2.3 Iris-virginica] [6.3 3.4 5.6 2.4 Iris-virginica] [6.4 3.1 5.5 1.8 Iris-virginica] [6.0 3.0 4.8 1.8 Iris-virginica] [6.9 3.1 5.4 2.1 Iris-virginica] [6.7 3.1 5.6 2.4 Iris-virginica] [6.9 3.1 5.1 2.3 Iris-virginica] [5.8 2.7 5.1 1.9 Iris-virginica] [6.8 3.2 5.9 2.3 Iris-virginica] [6.7 3.3 5.7 2.5 Iris-virginica] [6.7 3.0 5.2 2.3 Iris-virginica] [6.3 2.5 5.0 1.9 Iris-virginica] [6.5 3.0 5.2 2.0 Iris-virginica] [6.2 3.4 5.4 2.3 Iris-virginica] [5.9 3.0 5.1 1.8 Iris-virginica]]\n"
     ]
    }
   ],
   "source": [
    "%%\n",
    "f, err := os.Open(\"../data/iris.csv\") \n",
    "if err != nil { \n",
    "    log.Fatal(err) \n",
    "}\n",
    "\n",
    "defer f.Close() \n",
    "\n",
    "// Create a new CSV reader reading from the opened file. \n",
    "reader := csv.NewReader(f)\n",
    "reader.FieldsPerRecord = 5\n",
    "\n",
    "// rawCSVData will hold our successfully parsed rows. \n",
    "var rawCSVData [][]string \n",
    "\n",
    "// Read in the records one by one. \n",
    "for {\n",
    "    // Read in a row. Check if we are at the end of the file. \n",
    "    record, err := reader.Read() \n",
    "    if err == io.EOF { \n",
    "        break \n",
    "    }\n",
    "\n",
    "    // If we had a parsing error, log the error and move on. \n",
    "    if err != nil { \n",
    "        log.Println(err) \n",
    "        continue \n",
    "    }\n",
    "    \n",
    "    // Append the record to our dataset. \n",
    "    rawCSVData = append(rawCSVData, record) \n",
    "}\n",
    "\n",
    "fmt.Println(rawCSVData)"
   ]
  },
  {
   "cell_type": "code",
   "execution_count": null,
   "id": "0706acdc-0746-41c2-bba4-b1ce5da6e89f",
   "metadata": {},
   "outputs": [],
   "source": []
  }
 ],
 "metadata": {
  "kernelspec": {
   "display_name": "Go (gonb)",
   "language": "go",
   "name": "gonb"
  },
  "language_info": {
   "codemirror_mode": "",
   "file_extension": ".go",
   "mimetype": "",
   "name": "go",
   "nbconvert_exporter": "",
   "pygments_lexer": "",
   "version": "go1.22.0"
  }
 },
 "nbformat": 4,
 "nbformat_minor": 5
}
