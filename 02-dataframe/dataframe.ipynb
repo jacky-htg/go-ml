{
 "cells": [
  {
   "cell_type": "markdown",
   "id": "95e006b7-c1a6-458c-abda-d166a69ab79e",
   "metadata": {},
   "source": [
    "# Dataframe\n",
    "\n",
    "Dataframe adalah struktur data yang mengorganisir data menjadi tabel 2 dimensi (baris dan kolom), biasanya digunakan untuk menganalisis data. Baris dan kolom disebut juga dengan series.\n",
    "\n",
    "## Series\n",
    "Series adalah koleksi data satu dimensi yang dimiliki oleh dataframe. Dalam contoh berikut, kita akan menerapkan series dan dataframe dalam bahasa go menggunakan librari GOTA.  \n",
    "\n",
    "TODO :\n",
    "- cantumkan gambar yang menjelaskan relasi dataframe dengan series.\n",
    "- kenapa memilih GOTA\n",
    "- cantumkan link repository GOTA\n"
   ]
  },
  {
   "cell_type": "code",
   "execution_count": 116,
   "id": "625d21e9-c994-4094-a3ab-5afb2b2f9b06",
   "metadata": {},
   "outputs": [
    {
     "name": "stdout",
     "output_type": "stream",
     "text": [
      "[Iris-setosa Iris-setosa Iris-virginica Iris-versicolor]\n"
     ]
    }
   ],
   "source": [
    "import \"github.com/go-gota/gota/series\"\n",
    "\n",
    "%%\n",
    "s := series.New([]string{\"Iris-setosa\", \"Iris-setosa\", \"Iris-virginica\", \"Iris-versicolor\"}, series.String, \"Species\")\n",
    "fmt.Println(s)"
   ]
  },
  {
   "cell_type": "markdown",
   "id": "e8f295a9-9148-4918-9856-daf6c653c735",
   "metadata": {},
   "source": [
    "## Convert Series ke Dataframe\n",
    "Series adalah komponen penyusun dataframe, kita bisa membuat suatu dataframe dari beberapa series. Yang perlu diingat adalah ukuran dari series-series pembentuk dataframe harus sama. Jika ukuran series tidak sama, akan terjadi error `\"DataFrame error: arguments have different dimensions\"`. Perhatikan bahwa series dibentuk dari 1 kolom data, sehingga dalam 1 series bisa diberi nama kolomnya."
   ]
  },
  {
   "cell_type": "code",
   "execution_count": 120,
   "id": "280b265a-2bf2-40da-8bac-91905a36ec53",
   "metadata": {},
   "outputs": [
    {
     "name": "stdout",
     "output_type": "stream",
     "text": [
      "[4x5] DataFrame\n",
      "\n",
      "    Sepal Length Sepal Width Petal Length Petal Width Species\n",
      " 0: 5.100000     3.500000    1.400000     0.200000    Iris-setosa\n",
      " 1: 4.900000     3.000000    1.400000     0.200000    Iris-setosa\n",
      " 2: 5.800000     2.800000    5.100000     2.400000    Iris-virginica\n",
      " 3: 6.300000     2.300000    4.400000     1.300000    Iris-versicolor\n",
      "    <float>      <float>     <float>      <float>     <string>\n",
      "\n"
     ]
    }
   ],
   "source": [
    "import (\n",
    "    \"github.com/go-gota/gota/series\"\n",
    "    \"github.com/go-gota/gota/dataframe\"\n",
    ")\n",
    "%%\n",
    "// Membuat beberapa series\n",
    "species := series.New([]string{\"Iris-setosa\", \"Iris-setosa\", \"Iris-virginica\", \"Iris-versicolor\"}, series.String, \"Species\")\n",
    "sepalLength := series.New([]float64{5.1, 4.9, 5.8, 6.3}, series.Float, \"Sepal Length\")\n",
    "sepalWidth := series.New([]float64{3.5, 3.0, 2.8, 2.3}, series.Float, \"Sepal Width\")\n",
    "petalLength := series.New([]float64{1.4, 1.4, 5.1, 4.4}, series.Float, \"Petal Length\")\n",
    "petalWidth := series.New([]float64{0.2, 0.2, 2.4, 1.3}, series.Float, \"Petal Width\")\n",
    "\n",
    "// membuat dataframe\n",
    "df := dataframe.New(\n",
    "    sepalLength, \n",
    "    sepalWidth, \n",
    "    petalLength, \n",
    "    petalWidth, \n",
    "    species,\n",
    ")\n",
    "fmt.Println(df)"
   ]
  },
  {
   "cell_type": "markdown",
   "id": "422fd504-718b-49c6-8f46-95b235722797",
   "metadata": {},
   "source": [
    "## Membuat Dataframe dari Struct\n",
    "Gota menyediakan fitur untuk mengconvert struct menjadi dataframe. Perhatikan bahwa dalam 1 data struct merupakan 1 baris data. Untuk penamaan field terjadi dalam definisi struct."
   ]
  },
  {
   "cell_type": "code",
   "execution_count": 122,
   "id": "390cbea5-12ba-4671-b01b-c970ddda8510",
   "metadata": {},
   "outputs": [
    {
     "name": "stdout",
     "output_type": "stream",
     "text": [
      "[4x5] DataFrame\n",
      "\n",
      "    SepalLength SepalWidth PetalLength PetalWidth Species\n",
      " 0: 5.100000    3.500000   1.400000    0.200000   Iris-setosa\n",
      " 1: 4.900000    3.000000   1.400000    0.200000   Iris-setosa\n",
      " 2: 5.800000    2.800000   5.100000    2.400000   Iris-virginica\n",
      " 3: 6.300000    2.300000   4.400000    1.300000   Iris-versicolor\n",
      "    <float>     <float>    <float>     <float>    <string>\n",
      "\n"
     ]
    }
   ],
   "source": [
    "import \"github.com/go-gota/gota/dataframe\"\n",
    "\n",
    "type Iris struct {\n",
    "    SepalLength float64\n",
    "    SepalWidth  float64\n",
    "    PetalLength float64\n",
    "    PetalWidth  float64\n",
    "    Species     string\n",
    "}\n",
    "\n",
    "%%\n",
    "iris := []Iris{\n",
    "    {5.1, 3.5, 1.4, 0.2, \"Iris-setosa\"},\n",
    "    {4.9, 3.0, 1.4, 0.2, \"Iris-setosa\"},\n",
    "    {5.8, 2.8, 5.1, 2.4, \"Iris-virginica\"},\n",
    "    {6.3, 2.3, 4.4, 1.3, \"Iris-versicolor\"},\n",
    "}\n",
    "\n",
    "df := dataframe.LoadStructs(iris)\n",
    "fmt.Println(df)"
   ]
  },
  {
   "cell_type": "markdown",
   "id": "08c2e34e-45b9-458f-b1b6-61c375899509",
   "metadata": {},
   "source": [
    "## Membuat Dataframe dari Record\n",
    "Gota menyediakan fitur untuk membuat dataframe dari record. Perhatikan bahwa baris pertama dari records akan dijadikan nama field (label)."
   ]
  },
  {
   "cell_type": "code",
   "execution_count": 124,
   "id": "03d45200-4043-465b-b369-406e590b2123",
   "metadata": {},
   "outputs": [
    {
     "name": "stdout",
     "output_type": "stream",
     "text": [
      "[4x5] DataFrame\n",
      "\n",
      "    Sepal Length Sepal Width Petal Length Petal Width Species\n",
      " 0: 5.100000     3.500000    1.400000     0.200000    Iris-setosa\n",
      " 1: 4.900000     3.000000    1.400000     0.200000    Iris-setosa\n",
      " 2: 5.800000     2.800000    5.100000     2.400000    Iris-virginica\n",
      " 3: 6.300000     2.300000    4.400000     1.300000    Iris-versicolor\n",
      "    <float>      <float>     <float>      <float>     <string>\n",
      "\n"
     ]
    }
   ],
   "source": [
    "import \"github.com/go-gota/gota/dataframe\"\n",
    "\n",
    "%%\n",
    "iris := [][]string{\n",
    "    []string{\"Sepal Length\", \"Sepal Width\", \"Petal Length\", \"Petal Width\", \"Species\"},\n",
    "    []string{\"5.1\", \"3.5\", \"1.4\", \"0.2\", \"Iris-setosa\"},\n",
    "    []string{\"4.9\", \"3.0\", \"1.4\", \"0.2\", \"Iris-setosa\"},\n",
    "    []string{\"5.8\", \"2.8\", \"5.1\", \"2.4\", \"Iris-virginica\"},\n",
    "    []string{\"6.3\", \"2.3\", \"4.4\", \"1.3\", \"Iris-versicolor\"},\n",
    "}\n",
    "\n",
    "df := dataframe.LoadRecords(iris)\n",
    "fmt.Println(df)"
   ]
  },
  {
   "cell_type": "markdown",
   "id": "1b57eb5e-9bf9-4e29-b6d7-5f0c78aa9548",
   "metadata": {},
   "source": [
    "## Membuat Dataframe dari File CSV\n",
    "Gota juga menyediakan fitur untuk membuat dataframe dari sebuah file csv. Dalam contoh ini kita akan menggunakan file iris.csv. \n",
    "\n",
    "Todo : \n",
    "- cantumkan link untuk file iris.csv"
   ]
  },
  {
   "cell_type": "code",
   "execution_count": 125,
   "id": "094eb5f7-9819-43a9-b593-10b16da7f46e",
   "metadata": {},
   "outputs": [],
   "source": [
    "import (\n",
    "    \"github.com/go-gota/gota/dataframe\"\n",
    "    \"github.com/go-gota/gota/series\"\n",
    ")\n",
    "\n",
    "func getDataframe(file string) (dataframe.DataFrame, error) {\n",
    "    var df dataframe.DataFrame \n",
    "    f, err := os.Open(file)\n",
    "    if err != nil {\n",
    "        return df, err\n",
    "    }\n",
    "    defer f.Close()\n",
    "\n",
    "    return dataframe.ReadCSV(f), nil\n",
    "}"
   ]
  },
  {
   "cell_type": "code",
   "execution_count": 126,
   "id": "26eb7772-9ad2-4f9b-b6e7-eda98346029a",
   "metadata": {},
   "outputs": [
    {
     "name": "stdout",
     "output_type": "stream",
     "text": [
      "[150x5] DataFrame\n",
      "\n",
      "    Sepal Length Sepal Width Petal Length Petal Width Species\n",
      " 0: 5.100000     3.500000    1.400000     0.200000    Iris-setosa\n",
      " 1: 4.900000     3.000000    1.400000     0.200000    Iris-setosa\n",
      " 2: 4.700000     3.200000    1.300000     0.200000    Iris-setosa\n",
      " 3: 4.600000     3.100000    1.500000     0.200000    Iris-setosa\n",
      " 4: 5.000000     3.600000    1.400000     0.200000    Iris-setosa\n",
      " 5: 5.400000     3.900000    1.700000     0.400000    Iris-setosa\n",
      " 6: 4.600000     3.400000    1.400000     0.300000    Iris-setosa\n",
      " 7: 5.000000     3.400000    1.500000     0.200000    Iris-setosa\n",
      " 8: 4.400000     2.900000    1.400000     0.200000    Iris-setosa\n",
      " 9: 4.900000     3.100000    1.500000     0.100000    Iris-setosa\n",
      "    ...          ...         ...          ...         ...\n",
      "    <float>      <float>     <float>      <float>     <string>\n",
      "\n"
     ]
    }
   ],
   "source": [
    "%%\n",
    "df, err := getDataframe(\"../data/iris.csv\")\n",
    "if err != nil {\n",
    "    fmt.Println(err)\n",
    "    return\n",
    "}\n",
    "\n",
    "fmt.Println(df)"
   ]
  },
  {
   "cell_type": "markdown",
   "id": "50fc5af9-1573-421b-a0ac-f57870ba8b8c",
   "metadata": {},
   "source": [
    "## Menampilkan Statistik Deskriptif\n",
    "Gota menyediakan fitur untuk menampilkan statistik deksriptif seperti rata-rata, median, standar deviasi dan lain-lain."
   ]
  },
  {
   "cell_type": "code",
   "execution_count": 127,
   "id": "22fefa79-ed79-4f33-ba2e-9a10b134cef2",
   "metadata": {},
   "outputs": [
    {
     "name": "stdout",
     "output_type": "stream",
     "text": [
      "[8x6] DataFrame\n",
      "\n",
      "    column   Sepal Length Sepal Width Petal Length Petal Width Species\n",
      " 0: mean     5.843333     3.054000    3.758667     1.198667    -\n",
      " 1: median   5.800000     3.000000    4.350000     1.300000    -\n",
      " 2: stddev   0.828066     0.433594    1.764420     0.763161    -\n",
      " 3: min      4.300000     2.000000    1.000000     0.100000    Iris-setosa\n",
      " 4: 25%      5.100000     2.800000    1.600000     0.300000    -\n",
      " 5: 50%      5.800000     3.000000    4.300000     1.300000    -\n",
      " 6: 75%      6.400000     3.300000    5.100000     1.800000    -\n",
      " 7: max      7.900000     4.400000    6.900000     2.500000    Iris-virginica\n",
      "    <string> <float>      <float>     <float>      <float>     <string>\n",
      "\n"
     ]
    }
   ],
   "source": [
    "%%\n",
    "df, err := getDataframe(\"../data/iris.csv\")\n",
    "if err != nil {\n",
    "    fmt.Println(err)\n",
    "    return\n",
    "}\n",
    "stats := df.Describe()\n",
    "fmt.Println(stats)"
   ]
  },
  {
   "cell_type": "markdown",
   "id": "784433dd-6bc6-4b46-b032-596271fca318",
   "metadata": {},
   "source": [
    "## Query Dataframe"
   ]
  },
  {
   "cell_type": "code",
   "execution_count": 128,
   "id": "015ee7c7-a01f-4463-9743-61e84bd05f5a",
   "metadata": {},
   "outputs": [
    {
     "name": "stdout",
     "output_type": "stream",
     "text": [
      "150 5\n",
      "[float float float float string]\n",
      "[Sepal Length Sepal Width Petal Length Petal Width Species]\n",
      "150\n",
      "5\n"
     ]
    }
   ],
   "source": [
    "%% \n",
    "df, err := getDataframe(\"../data/iris.csv\")\n",
    "if err != nil {\n",
    "    fmt.Println(err)\n",
    "    return\n",
    "}\n",
    "\n",
    "fmt.Println(df.Dims())\n",
    "fmt.Println(df.Types())\n",
    "fmt.Println(df.Names())\n",
    "fmt.Println(df.Nrow())\n",
    "fmt.Println(df.Ncol())"
   ]
  },
  {
   "cell_type": "markdown",
   "id": "c005c4ef-662b-479c-b4f6-ed2f7e736c83",
   "metadata": {},
   "source": [
    "## Query Kolom\n",
    "Kita bisa "
   ]
  },
  {
   "cell_type": "code",
   "execution_count": 132,
   "id": "5cfeb97b-ed43-4f60-8f3c-f542910f0f28",
   "metadata": {},
   "outputs": [
    {
     "name": "stdout",
     "output_type": "stream",
     "text": [
      "[false false false false false false false false false false false false false false false false false false false false false false false false false false false false false false false false false false false false false false false false false false false false false false false false false false false false false false false false false false false false false false false false false false false false false false false false false false false false false false false false false false false false false false false false false false false false false false false false false false false false false false false false false false false false false false false false false false false false false false false false false false false false false false false false false false false false false false false false false false false false false false false false false false false false false false]\n",
      "5.843333333333334\n",
      "[5.100000 4.900000 4.700000 4.600000 5.000000 5.400000 4.600000 5.000000 4.400000 4.900000 5.400000 4.800000 4.800000 4.300000 5.800000 5.700000 5.400000 5.100000 5.700000 5.100000 5.400000 5.100000 4.600000 5.100000 4.800000 5.000000 5.000000 5.200000 5.200000 4.700000 4.800000 5.400000 5.200000 5.500000 4.900000 5.000000 5.500000 4.900000 4.400000 5.100000 5.000000 4.500000 4.400000 5.000000 5.100000 4.800000 5.100000 4.600000 5.300000 5.000000 7.000000 6.400000 6.900000 5.500000 6.500000 5.700000 6.300000 4.900000 6.600000 5.200000 5.000000 5.900000 6.000000 6.100000 5.600000 6.700000 5.600000 5.800000 6.200000 5.600000 5.900000 6.100000 6.300000 6.100000 6.400000 6.600000 6.800000 6.700000 6.000000 5.700000 5.500000 5.500000 5.800000 6.000000 5.400000 6.000000 6.700000 6.300000 5.600000 5.500000 5.500000 6.100000 5.800000 5.000000 5.600000 5.700000 5.700000 6.200000 5.100000 5.700000 6.300000 5.800000 7.100000 6.300000 6.500000 7.600000 4.900000 7.300000 6.700000 7.200000 6.500000 6.400000 6.800000 5.700000 5.800000 6.400000 6.500000 7.700000 7.700000 6.000000 6.900000 5.600000 7.700000 6.300000 6.700000 7.200000 6.200000 6.100000 6.400000 7.200000 7.400000 7.900000 6.400000 6.300000 6.100000 7.700000 6.300000 6.400000 6.000000 6.900000 6.700000 6.900000 5.800000 6.800000 6.700000 6.700000 6.300000 6.500000 6.200000 5.900000]\n",
      "false\n",
      "[5.100000 4.900000 4.700000 4.600000 5.000000 5.400000 4.600000 5.000000 4.400000 4.900000 5.400000 4.800000 4.800000 4.300000 5.800000 5.700000 5.400000 5.100000 5.700000 5.100000 5.400000 5.100000 4.600000 5.100000 4.800000 5.000000 5.000000 5.200000 5.200000 4.700000 4.800000 5.400000 5.200000 5.500000 4.900000 5.000000 5.500000 4.900000 4.400000 5.100000 5.000000 4.500000 4.400000 5.000000 5.100000 4.800000 5.100000 4.600000 5.300000 5.000000 7.000000 6.400000 6.900000 5.500000 6.500000 5.700000 6.300000 4.900000 6.600000 5.200000 5.000000 5.900000 6.000000 6.100000 5.600000 6.700000 5.600000 5.800000 6.200000 5.600000 5.900000 6.100000 6.300000 6.100000 6.400000 6.600000 6.800000 6.700000 6.000000 5.700000 5.500000 5.500000 5.800000 6.000000 5.400000 6.000000 6.700000 6.300000 5.600000 5.500000 5.500000 6.100000 5.800000 5.000000 5.600000 5.700000 5.700000 6.200000 5.100000 5.700000 6.300000 5.800000 7.100000 6.300000 6.500000 7.600000 4.900000 7.300000 6.700000 7.200000 6.500000 6.400000 6.800000 5.700000 5.800000 6.400000 6.500000 7.700000 7.700000 6.000000 6.900000 5.600000 7.700000 6.300000 6.700000 7.200000 6.200000 6.100000 6.400000 7.200000 7.400000 7.900000 6.400000 6.300000 6.100000 7.700000 6.300000 6.400000 6.000000 6.900000 6.700000 6.900000 5.800000 6.800000 6.700000 6.700000 6.300000 6.500000 6.200000 5.900000]\n"
     ]
    }
   ],
   "source": [
    "%% \n",
    "df, err := getDataframe(\"../data/iris.csv\")\n",
    "if err != nil {\n",
    "    fmt.Println(err)\n",
    "    return\n",
    "}\n",
    "col := df.Col(\"Sepal Length\") // Selects a column\n",
    "fmt.Println(col.IsNaN())\n",
    "fmt.Println(col.Mean())\n",
    "fmt.Println(col.Copy())\n",
    "fmt.Println(col.HasNaN())\n",
    "fmt.Println(col.Records())"
   ]
  },
  {
   "cell_type": "markdown",
   "id": "9762e718-4001-4a24-b0fc-78821d9a5e6c",
   "metadata": {},
   "source": [
    "## Select Kolom"
   ]
  },
  {
   "cell_type": "code",
   "execution_count": 136,
   "id": "475b6b48-e971-41c7-b00f-b5b295d2520e",
   "metadata": {},
   "outputs": [
    {
     "name": "stdout",
     "output_type": "stream",
     "text": [
      "[150x1] DataFrame\n",
      "\n",
      "    Sepal Length\n",
      " 0: 5.100000\n",
      " 1: 4.900000\n",
      " 2: 4.700000\n",
      " 3: 4.600000\n",
      " 4: 5.000000\n",
      " 5: 5.400000\n",
      " 6: 4.600000\n",
      " 7: 5.000000\n",
      " 8: 4.400000\n",
      " 9: 4.900000\n",
      "    ...\n",
      "    <float>\n",
      "\n"
     ]
    }
   ],
   "source": [
    "%% \n",
    "df, err := getDataframe(\"../data/iris.csv\")\n",
    "if err != nil {\n",
    "    fmt.Println(err)\n",
    "    return\n",
    "}\n",
    "firstCol := df.Select(0) \n",
    "fmt.Println(firstCol)"
   ]
  },
  {
   "cell_type": "code",
   "execution_count": 137,
   "id": "d4bcb513-44c9-4d6b-8b9c-3f44d06a800e",
   "metadata": {},
   "outputs": [
    {
     "name": "stdout",
     "output_type": "stream",
     "text": [
      "[150x1] DataFrame\n",
      "\n",
      "    Sepal Width\n",
      " 0: 3.500000\n",
      " 1: 3.000000\n",
      " 2: 3.200000\n",
      " 3: 3.100000\n",
      " 4: 3.600000\n",
      " 5: 3.900000\n",
      " 6: 3.400000\n",
      " 7: 3.400000\n",
      " 8: 2.900000\n",
      " 9: 3.100000\n",
      "    ...\n",
      "    <float>\n",
      "\n"
     ]
    }
   ],
   "source": [
    "%% \n",
    "df, err := getDataframe(\"../data/iris.csv\")\n",
    "if err != nil {\n",
    "    fmt.Println(err)\n",
    "    return\n",
    "}\n",
    "secondCol := df.Select(1)\n",
    "fmt.Println(secondCol)"
   ]
  },
  {
   "cell_type": "code",
   "execution_count": 138,
   "id": "5cc0b199-6cf4-4bf4-9e8f-a1bb32863daf",
   "metadata": {},
   "outputs": [
    {
     "name": "stdout",
     "output_type": "stream",
     "text": [
      "[150x2] DataFrame\n",
      "\n",
      "    Sepal Length Petal Width\n",
      " 0: 5.100000     0.200000\n",
      " 1: 4.900000     0.200000\n",
      " 2: 4.700000     0.200000\n",
      " 3: 4.600000     0.200000\n",
      " 4: 5.000000     0.200000\n",
      " 5: 5.400000     0.400000\n",
      " 6: 4.600000     0.300000\n",
      " 7: 5.000000     0.200000\n",
      " 8: 4.400000     0.200000\n",
      " 9: 4.900000     0.100000\n",
      "    ...          ...\n",
      "    <float>      <float>\n",
      "\n"
     ]
    }
   ],
   "source": [
    "%% \n",
    "df, err := getDataframe(\"../data/iris.csv\")\n",
    "if err != nil {\n",
    "    fmt.Println(err)\n",
    "    return\n",
    "}\n",
    "multiCol := df.Select([]int{0,3})\n",
    "fmt.Println(multiCol)"
   ]
  },
  {
   "cell_type": "code",
   "execution_count": 139,
   "id": "4a233013-bd48-48a8-9f7b-b2410619fa7c",
   "metadata": {},
   "outputs": [
    {
     "name": "stdout",
     "output_type": "stream",
     "text": [
      "[150x2] DataFrame\n",
      "\n",
      "    Sepal Length Species\n",
      " 0: 5.100000     Iris-setosa\n",
      " 1: 4.900000     Iris-setosa\n",
      " 2: 4.700000     Iris-setosa\n",
      " 3: 4.600000     Iris-setosa\n",
      " 4: 5.000000     Iris-setosa\n",
      " 5: 5.400000     Iris-setosa\n",
      " 6: 4.600000     Iris-setosa\n",
      " 7: 5.000000     Iris-setosa\n",
      " 8: 4.400000     Iris-setosa\n",
      " 9: 4.900000     Iris-setosa\n",
      "    ...          ...\n",
      "    <float>      <string>\n",
      "\n"
     ]
    }
   ],
   "source": [
    "%% \n",
    "df, err := getDataframe(\"../data/iris.csv\")\n",
    "if err != nil {\n",
    "    fmt.Println(err)\n",
    "    return\n",
    "}\n",
    "\n",
    "columns := df.Select([]string{\"Sepal Length\", \"Species\"})\n",
    "fmt.Println(columns)"
   ]
  },
  {
   "cell_type": "markdown",
   "id": "0656f85a-3381-4226-9d80-e1bf4531f6de",
   "metadata": {},
   "source": [
    "## Select Row"
   ]
  },
  {
   "cell_type": "code",
   "execution_count": 140,
   "id": "0ac439b1-0621-407e-b96b-80d5c34ec350",
   "metadata": {},
   "outputs": [
    {
     "name": "stdout",
     "output_type": "stream",
     "text": [
      "[2x5] DataFrame\n",
      "\n",
      "    Sepal Length Sepal Width Petal Length Petal Width Species\n",
      " 0: 5.100000     3.500000    1.400000     0.200000    Iris-setosa\n",
      " 1: 4.700000     3.200000    1.300000     0.200000    Iris-setosa\n",
      "    <float>      <float>     <float>      <float>     <string>\n",
      "\n"
     ]
    }
   ],
   "source": [
    "%% \n",
    "df, err := getDataframe(\"../data/iris.csv\")\n",
    "if err != nil {\n",
    "    fmt.Println(err)\n",
    "    return\n",
    "}\n",
    "\n",
    "// This selects the first two rows of the DataFrame\n",
    "rows := df.Subset([]int{0, 2})\n",
    "fmt.Println(rows)"
   ]
  },
  {
   "cell_type": "markdown",
   "id": "d25ec967-6742-4699-be00-917d06fd1245",
   "metadata": {},
   "source": [
    "## Select Field\n",
    "dataframe mempunyai fungsi Elem(row, col) untuk hal ini."
   ]
  },
  {
   "cell_type": "code",
   "execution_count": 172,
   "id": "2664e32e-15f8-4267-bbd2-11aec566d573",
   "metadata": {},
   "outputs": [
    {
     "name": "stdout",
     "output_type": "stream",
     "text": [
      "5.100000\n",
      "Iris-setosa\n"
     ]
    }
   ],
   "source": [
    "%%\n",
    "df, err := getDataframe(\"../data/iris.csv\")\n",
    "if err != nil {\n",
    "    fmt.Println(err)\n",
    "    return\n",
    "}\n",
    "fmt.Println(df.Elem(0, 0))\n",
    "fmt.Println(df.Elem(0, 4))"
   ]
  },
  {
   "cell_type": "markdown",
   "id": "607182a4-5f2a-48e8-b8ad-a79416943aa3",
   "metadata": {},
   "source": [
    "## Update"
   ]
  },
  {
   "cell_type": "markdown",
   "id": "be21e9a5-c245-4fe8-aff3-7ce8f5b92cc3",
   "metadata": {},
   "source": [
    "### Update 1 baris"
   ]
  },
  {
   "cell_type": "code",
   "execution_count": 141,
   "id": "2148559a-640e-41f1-951b-f614142107a5",
   "metadata": {},
   "outputs": [
    {
     "name": "stdout",
     "output_type": "stream",
     "text": [
      "[150x5] DataFrame\n",
      "\n",
      "    Sepal Length Sepal Width Petal Length Petal Width Species\n",
      " 0: 5.200000     3.600000    1.500000     0.300000    Iris-setosa\n",
      " 1: 4.900000     3.000000    1.400000     0.200000    Iris-setosa\n",
      " 2: 4.700000     3.200000    1.300000     0.200000    Iris-setosa\n",
      " 3: 4.600000     3.100000    1.500000     0.200000    Iris-setosa\n",
      " 4: 5.000000     3.600000    1.400000     0.200000    Iris-setosa\n",
      " 5: 5.400000     3.900000    1.700000     0.400000    Iris-setosa\n",
      " 6: 4.600000     3.400000    1.400000     0.300000    Iris-setosa\n",
      " 7: 5.000000     3.400000    1.500000     0.200000    Iris-setosa\n",
      " 8: 4.400000     2.900000    1.400000     0.200000    Iris-setosa\n",
      " 9: 4.900000     3.100000    1.500000     0.100000    Iris-setosa\n",
      "    ...          ...         ...          ...         ...\n",
      "    <float>      <float>     <float>      <float>     <string>\n",
      "\n"
     ]
    }
   ],
   "source": [
    "%% \n",
    "df, err := getDataframe(\"../data/iris.csv\")\n",
    "if err != nil {\n",
    "    fmt.Println(err)\n",
    "    return\n",
    "}\n",
    "\n",
    "newDf := dataframe.LoadRecords(\n",
    "    [][]string{\n",
    "        []string{\"Sepal Length\", \"Sepal Width\", \"Petal Length\", \"Petal Width\", \"Species\"},\n",
    "        []string{\"5.2\", \"3.6\", \"1.5\", \"0.3\", \"Iris-setosa\"},\n",
    "    },\n",
    ")\n",
    "\n",
    "updateDf := df.Set(\n",
    "    []int{0}, \n",
    "    newDf, \n",
    ")\n",
    "\n",
    "// Cetak DataFrame yang sudah diperbarui\n",
    "fmt.Println(updateDf)"
   ]
  },
  {
   "cell_type": "markdown",
   "id": "570fb235-dedb-4217-baa3-23d26a14cc13",
   "metadata": {},
   "source": [
    "### Update 1 field\n",
    "Sayangnya saya belum menemukan fungsi di GOTA untuk mengupdate 1 field tertentu. Terpaksa saya membuat fungsi updateField dengan memanfaatkan fungsi Set().  "
   ]
  },
  {
   "cell_type": "code",
   "execution_count": 167,
   "id": "ff7363fb-4241-4b4a-9f2d-6f0a8b468c30",
   "metadata": {},
   "outputs": [
    {
     "name": "stdout",
     "output_type": "stream",
     "text": [
      "[150x5] DataFrame\n",
      "\n",
      "    Sepal Length Sepal Width Petal Length Petal Width Species\n",
      " 0: 5.200000     3.500000    1.400000     0.200000    Iris-setosa\n",
      " 1: 4.900000     3.000000    1.400000     0.200000    Iris-setosa\n",
      " 2: 4.700000     3.200000    1.300000     0.200000    Iris-setosa\n",
      " 3: 4.600000     3.100000    1.500000     0.200000    Iris-setosa\n",
      " 4: 5.000000     3.600000    1.400000     0.200000    Iris-setosa\n",
      " 5: 5.400000     3.900000    1.700000     0.400000    Iris-setosa\n",
      " 6: 4.600000     3.400000    1.400000     0.300000    Iris-setosa\n",
      " 7: 5.000000     3.400000    1.500000     0.200000    Iris-setosa\n",
      " 8: 4.400000     2.900000    1.400000     0.200000    Iris-setosa\n",
      " 9: 4.900000     3.100000    1.500000     0.100000    Iris-setosa\n",
      "    ...          ...         ...          ...         ...\n",
      "    <float>      <float>     <float>      <float>     <string>\n",
      "\n"
     ]
    }
   ],
   "source": [
    "func updateField(df dataframe.DataFrame, value interface{}, row int, col int) dataframe.DataFrame {\n",
    "    var newSeries []series.Series\n",
    "    length := len(df.Names())\n",
    "    for i := 0; i < length; i++ {\n",
    "        var locSeries series.Series\n",
    "        if i == col {\n",
    "            locSeries = series.New(value, df.Types()[i], df.Names()[i])\n",
    "        } else {\n",
    "            locSeries = series.New(df.Elem(row, i), df.Types()[i], df.Names()[i])\n",
    "        }\n",
    "\n",
    "        newSeries = append(newSeries, locSeries)\n",
    "    }\n",
    "\n",
    "    return df.Set(row,dataframe.New(newSeries...))\n",
    "}\n",
    "\n",
    "%% \n",
    "df, err := getDataframe(\"../data/iris.csv\")\n",
    "if err != nil {\n",
    "    fmt.Println(err)\n",
    "    return\n",
    "}\n",
    "\n",
    "fmt.Println(updateField(df, 5.2, 0, 0))"
   ]
  },
  {
   "cell_type": "code",
   "execution_count": null,
   "id": "0b30a3b9-3cc7-47f1-b94b-eefe1832597b",
   "metadata": {},
   "outputs": [],
   "source": []
  }
 ],
 "metadata": {
  "kernelspec": {
   "display_name": "Go (gonb)",
   "language": "go",
   "name": "gonb"
  },
  "language_info": {
   "codemirror_mode": "",
   "file_extension": ".go",
   "mimetype": "",
   "name": "go",
   "nbconvert_exporter": "",
   "pygments_lexer": "",
   "version": "go1.22.0"
  }
 },
 "nbformat": 4,
 "nbformat_minor": 5
}
