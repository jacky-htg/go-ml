{
 "cells": [
  {
   "cell_type": "markdown",
   "id": "f2cd05dc-8d04-4310-8d87-beaea4b4321e",
   "metadata": {},
   "source": [
    "# Multiple Linier Regression\n",
    "\n",
    "Mari kita coba memperluas model Penjualan kita dari model regresi linear menjadi model multiple regresi. Melihat kembali scatter plot yang telah dibuat sebelumnya, kita dapat melihat bahwa Radio juga tampaknya berkorelasi linear dengan Penjualan. Jadi, mari kita coba membuat model regresi linear multipel yang terlihat seperti berikut:\n",
    "\n",
    "Penjualan = m1 * TV + m2 * Radio + b\n",
    "\n",
    "Untuk melakukan ini dengan https://github.com/sajari/regression, kita hanya perlu memberi label variabel lain dalam nilai regression.Regression dan memastikan nilai-nilai ini dipasangkan dalam titik data pelatihan. Kita kemudian akan menjalankan regresi dan melihat bagaimana rumusnya keluar."
   ]
  },
  {
   "cell_type": "code",
   "execution_count": 1,
   "id": "1b266c1c-2207-4773-bda9-fec5b18620a4",
   "metadata": {},
   "outputs": [],
   "source": [
    "import \"github.com/sajari/regression\""
   ]
  },
  {
   "cell_type": "code",
   "execution_count": 2,
   "id": "5c68319b-bc01-47a1-ba7d-33551f85f953",
   "metadata": {},
   "outputs": [],
   "source": [
    "func training(file string) (regression.Regression, error) {\n",
    "    var r regression.Regression \n",
    "    \n",
    "    f, err := os.Open(file) \n",
    "    if err != nil { \n",
    "        return r, err \n",
    "    }\n",
    "    \n",
    "    defer f.Close() \n",
    "    \n",
    "    reader := csv.NewReader(f)\n",
    "    reader.FieldsPerRecord = -1\n",
    "    \n",
    "    r.SetObserved(\"Sales\") \n",
    "    r.SetVar(0, \"TV\")\n",
    "    r.SetVar(1, \"Radio\")\n",
    "    \n",
    "    for {\n",
    "        // Read in a row. Check if we are at the end of the file. \n",
    "        record, err := reader.Read() \n",
    "        if err == io.EOF { \n",
    "            break \n",
    "        }\n",
    "    \n",
    "        // skip header\n",
    "        if record[0] == \"TV\" {\n",
    "            continue\n",
    "        }\n",
    "        \n",
    "        yVal, err := strconv.ParseFloat(record[3], 64) \n",
    "        if err != nil { \n",
    "            return r, err\n",
    "        }\n",
    "    \n",
    "        tvVal, err := strconv.ParseFloat(record[0], 64) \n",
    "        if err != nil { \n",
    "            return r, err\n",
    "        }\n",
    "\n",
    "        radioVal, err := strconv.ParseFloat(record[1], 64) \n",
    "        if err != nil { \n",
    "            return r, err\n",
    "        }\n",
    "        \n",
    "        r.Train(regression.DataPoint(yVal, []float64{tvVal, radioVal}))\n",
    "    }\n",
    "    \n",
    "    r.Run()\n",
    "\n",
    "    return r, nil\n",
    "}"
   ]
  },
  {
   "cell_type": "code",
   "execution_count": 3,
   "id": "f78b30f7-fb82-45e7-bf11-83e3a34bb866",
   "metadata": {},
   "outputs": [
    {
     "name": "stdout",
     "output_type": "stream",
     "text": [
      "\n",
      "Regression Formula:\n",
      "Predicted = 3.0328 + TV*0.0448 + Radio*0.1866\n",
      "\n"
     ]
    }
   ],
   "source": [
    "%%\n",
    "r, err := training(\"./01-shuffle-training.csv\")\n",
    "if err != nil {\n",
    "    log.Fatal(err)\n",
    "}\n",
    "fmt.Printf(\"\\nRegression Formula:\\n%v\\n\\n\", r.Formula)"
   ]
  },
  {
   "cell_type": "markdown",
   "id": "e91c5a2f-576c-444e-8dee-37c0ee7aa94b",
   "metadata": {},
   "source": [
    "Selanjutnya kita bisa membuat fungsi predic berdasarkan formula tersebut."
   ]
  },
  {
   "cell_type": "code",
   "execution_count": 4,
   "id": "8ead9dfe-30cf-4c25-94eb-eb0323bc6e56",
   "metadata": {},
   "outputs": [],
   "source": [
    "func predict(tv float64, radio float64) float64 {\n",
    "    return 3.0328 + tv*0.0448 + radio*0.1866\n",
    "}"
   ]
  },
  {
   "cell_type": "markdown",
   "id": "07407ad3-87fb-4a52-9dc2-3dcb357e1cd7",
   "metadata": {},
   "source": [
    "## Evaluasi"
   ]
  },
  {
   "cell_type": "code",
   "execution_count": 5,
   "id": "6ecff4d7-a9c0-449e-bb37-0573c74c6d96",
   "metadata": {},
   "outputs": [],
   "source": [
    "func evaluasi(file string) (float64, error) {\n",
    "    var mAE float64\n",
    "    f, err := os.Open(file) \n",
    "    if err != nil { \n",
    "        return mAE, err\n",
    "    }\n",
    "    \n",
    "    defer f.Close() \n",
    "    \n",
    "    reader := csv.NewReader(f)\n",
    "    reader.FieldsPerRecord = -1\n",
    "    testData, err := reader.ReadAll() \n",
    "    if err != nil { \n",
    "        return mAE, err\n",
    "    }\n",
    "    \n",
    "    // delete header\n",
    "    testData = testData[1:]\n",
    "    \n",
    "    for _, record := range testData {\n",
    "        yObserved, err := strconv.ParseFloat(record[3], 64) \n",
    "        if err != nil { \n",
    "            return mAE, err\n",
    "        }\n",
    "    \n",
    "        tvVal, err := strconv.ParseFloat(record[0], 64) \n",
    "        if err != nil { \n",
    "            return mAE, err\n",
    "        }\n",
    "\n",
    "        radioVal, err := strconv.ParseFloat(record[1], 64) \n",
    "        if err != nil { \n",
    "            return mAE, err\n",
    "        }\n",
    "        \n",
    "        // Predict y with our trained model. \n",
    "        yPredicted := predict(tvVal, radioVal)\n",
    "    \n",
    "        // Add the to the mean absolute error. \n",
    "        mAE += math.Abs(yObserved-yPredicted) / float64(len(testData))\n",
    "    }\n",
    "\n",
    "    return mAE, nil\n",
    "}"
   ]
  },
  {
   "cell_type": "code",
   "execution_count": 6,
   "id": "c954db03-b61a-456b-99c4-b872728e2028",
   "metadata": {},
   "outputs": [
    {
     "name": "stdout",
     "output_type": "stream",
     "text": [
      "MAE = 1.22\n",
      "\n"
     ]
    }
   ],
   "source": [
    "%%\n",
    "mAE, err := evaluasi(\"./01-shuffle-test.csv\")\n",
    "if err != nil {\n",
    "    log.Fatal(err)\n",
    "}\n",
    "\n",
    "fmt.Printf(\"MAE = %0.2f\\n\\n\", mAE)"
   ]
  },
  {
   "cell_type": "markdown",
   "id": "943ddb63-0d0d-472a-b08e-c416f2dc23df",
   "metadata": {},
   "source": [
    "Model regresi linear multipel kita yang baru telah meningkatkan MAE (Mean Absolute Error)! Ini berarti kita sekarang berada dalam kondisi yang baik untuk memprediksi Penjualan berdasarkan pengeluaran iklan kita.\n",
    "\n",
    "Anda juga dapat mencoba menambahkan variabel Iklan di Surat Kabar ke dalam model sebagai latihan lanjutan untuk melihat bagaimana performa model terpengaruh.\n",
    "\n",
    "Namun penting untuk diingat:\n",
    "\n",
    "* Semakin kompleks model yang Anda buat, semakin Anda mengorbankan kesederhanaan.\n",
    "* Kompleksitas yang berlebihan dapat menyebabkan overfitting, di mana model terlalu fokus pada data latihan dan tidak dapat digeneralisasikan dengan baik ke data baru.\n",
    "\n",
    "Oleh karena itu, Anda sebaiknya hanya menambahkan kompleksitas ke model jika peningkatan performa model memberikan nilai tambah yang nyata untuk kasus penggunaan Anda."
   ]
  }
 ],
 "metadata": {
  "kernelspec": {
   "display_name": "Go (gonb)",
   "language": "go",
   "name": "gonb"
  },
  "language_info": {
   "codemirror_mode": "",
   "file_extension": ".go",
   "mimetype": "",
   "name": "go",
   "nbconvert_exporter": "",
   "pygments_lexer": "",
   "version": "go1.22.0"
  }
 },
 "nbformat": 4,
 "nbformat_minor": 5
}
