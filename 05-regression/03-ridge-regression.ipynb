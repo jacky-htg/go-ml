{
 "cells": [
  {
   "cell_type": "markdown",
   "id": "7a41a6d0-ed49-4151-b847-9076c040d7d5",
   "metadata": {},
   "source": [
    "# Ridge Regression\n",
    "\n",
    "Selain regresi linear OLS (Ordinary Least Squares), ada teknik regresi linear lainnya yang membantu mengatasi beberapa asumsi dan kelemahan yang terkait dengan regresi linear kuadrat terkecil. Ini termasuk:\n",
    "\n",
    "* Ridge Regression: Diterapkan di https://github.com/berkmancenter/ridge.\n",
    "* Lasso Regression: Belum ada implementasi Go yang umum digunakan saat ini. \n",
    "\n",
    "Perbedaan mencolok dengan github.com/sajari/regression adalah data variabel independen dan dependen dimasukkan ke dalam github.com/berkmancenter/ridge melalui matriks gonum. Untuk menyertakan intersep dalam model, kita perlu menambahkan kolom eksplisit ke matriks variabel independen input, di mana setiap nilai dalam kolom ini hanya 1.0."
   ]
  },
  {
   "cell_type": "markdown",
   "id": "530dd967-cc9f-43e9-a22a-4c9c81681afd",
   "metadata": {},
   "source": [
    "## Training Model"
   ]
  },
  {
   "cell_type": "code",
   "execution_count": 19,
   "id": "f66cd7db-704c-4ed9-9bbe-9252597939fe",
   "metadata": {},
   "outputs": [],
   "source": [
    "import (\n",
    "    \"github.com/berkmancenter/ridge\"\n",
    "    \"github.com/gonum/matrix/mat64\"\n",
    ")"
   ]
  },
  {
   "cell_type": "code",
   "execution_count": 21,
   "id": "50668c81-0228-4a30-8239-4948e1423976",
   "metadata": {},
   "outputs": [],
   "source": [
    "func training(file string) (*ridge.RidgeRegression, error) {\n",
    "    f, err := os.Open(file) \n",
    "    if err != nil { \n",
    "        return nil, err \n",
    "    }\n",
    "    \n",
    "    defer f.Close() \n",
    "    \n",
    "    reader := csv.NewReader(f)\n",
    "    reader.FieldsPerRecord = -1\n",
    "\n",
    "    csvData, err := reader.ReadAll() \n",
    "    if err != nil { \n",
    "        return nil, err\n",
    "    }\n",
    "    \n",
    "    // delete header\n",
    "    csvData = csvData[1:]\n",
    "\n",
    "    // featureData will hold all the float values that will eventually be \n",
    "    // used to form our matrix of features. \n",
    "    featureData := make([]float64, 4*len(csvData)) \n",
    "    yData := make([]float64, len(csvData)) \n",
    "    \n",
    "    // featureIndex and yIndex will track the current index of the matrix values. \n",
    "    var featureIndex int \n",
    "    var yIndex int\n",
    "    \n",
    "    for _, record := range csvData {\n",
    "        for i, val := range record { \n",
    "            // Convert the value to a float. \n",
    "            valParsed, err := strconv.ParseFloat(val, 64) \n",
    "            if err != nil { \n",
    "                return nil, err\n",
    "            }\n",
    "            \n",
    "            if i < 3 { \n",
    "                // Add an intercept to the model. \n",
    "                if i == 0 { \n",
    "                    featureData[featureIndex] = 1 \n",
    "                    featureIndex++ \n",
    "                }\n",
    "                \n",
    "                // Add the float value to the slice of feature floats. \n",
    "                featureData[featureIndex] = valParsed \n",
    "                featureIndex++ \n",
    "            }\n",
    "            \n",
    "            if i == 3 { \n",
    "                // Add the float value to the slice of y floats. \n",
    "                yData[yIndex] = valParsed \n",
    "                yIndex++ \n",
    "            } \n",
    "        }\n",
    "    }\n",
    "    \n",
    "    features := mat64.NewDense(len(csvData), 4, featureData) \n",
    "    y := mat64.NewVector(len(csvData), yData)\n",
    "\n",
    "    // Create a new RidgeRegression value, where 1.0 is the penalty value. \n",
    "    r := ridge.New(features, y, 1.0)\n",
    "\n",
    "    // Train our regression model. \n",
    "    r.Regress()\n",
    "\n",
    "    return r, nil\n",
    "}"
   ]
  },
  {
   "cell_type": "code",
   "execution_count": 23,
   "id": "69751779-3043-4054-80f3-6501574e489c",
   "metadata": {},
   "outputs": [
    {
     "name": "stdout",
     "output_type": "stream",
     "text": [
      "\n",
      "Regression formula:\n",
      "y = 3.146 + 0.044 TV + 0.184 Radio + 0.001 Newspaper\n",
      "\n"
     ]
    }
   ],
   "source": [
    "%%\n",
    "r, err := training(\"01-shuffle-training.csv\")\n",
    "if err != nil {\n",
    "    log.Fatal(err)\n",
    "}\n",
    "\n",
    "c1 := r.Coefficients.At(0, 0) \n",
    "c2 := r.Coefficients.At(1, 0) \n",
    "c3 := r.Coefficients.At(2, 0) \n",
    "c4 := r.Coefficients.At(3, 0) \n",
    "fmt.Printf(\"\\nRegression formula:\\n\") \n",
    "fmt.Printf(\"y = %0.3f + %0.3f TV + %0.3f Radio + %0.3f Newspaper\\n\\n\", c1, c2, c3, c4)"
   ]
  },
  {
   "cell_type": "code",
   "execution_count": 24,
   "id": "937d513a-2204-40b0-b835-7db6cd2527aa",
   "metadata": {},
   "outputs": [],
   "source": [
    "func predict(tv float64, radio float64, newspaper float64) float64 {\n",
    "    return 3.146 + tv * 0.044  + radio * 0.184 + newspaper * 0.001\n",
    "}"
   ]
  },
  {
   "cell_type": "markdown",
   "id": "d7ccc688-9094-40a7-be09-b2801438e38a",
   "metadata": {},
   "source": [
    "## Evaluasi"
   ]
  },
  {
   "cell_type": "code",
   "execution_count": 25,
   "id": "21a9ec32-5f1a-4509-a248-583114eac041",
   "metadata": {},
   "outputs": [],
   "source": [
    "func evaluasi(file string) (float64, error) {\n",
    "    var mAE float64\n",
    "    f, err := os.Open(file) \n",
    "    if err != nil { \n",
    "        return mAE, err\n",
    "    }\n",
    "    \n",
    "    defer f.Close() \n",
    "    \n",
    "    reader := csv.NewReader(f)\n",
    "    reader.FieldsPerRecord = -1\n",
    "    testData, err := reader.ReadAll() \n",
    "    if err != nil { \n",
    "        return mAE, err\n",
    "    }\n",
    "    \n",
    "    // delete header\n",
    "    testData = testData[1:]\n",
    "    \n",
    "    for _, record := range testData {\n",
    "        yObserved, err := strconv.ParseFloat(record[3], 64) \n",
    "        if err != nil { \n",
    "            return mAE, err\n",
    "        }\n",
    "    \n",
    "        tvVal, err := strconv.ParseFloat(record[0], 64) \n",
    "        if err != nil { \n",
    "            return mAE, err\n",
    "        }\n",
    "\n",
    "        radioVal, err := strconv.ParseFloat(record[1], 64) \n",
    "        if err != nil { \n",
    "            return mAE, err\n",
    "        }\n",
    "\n",
    "        newspaperVal, err := strconv.ParseFloat(record[2], 64) \n",
    "        if err != nil { \n",
    "            return mAE, err\n",
    "        }\n",
    "        \n",
    "        // Predict y with our trained model. \n",
    "        yPredicted := predict(tvVal, radioVal, newspaperVal)\n",
    "    \n",
    "        // Add the to the mean absolute error. \n",
    "        mAE += math.Abs(yObserved-yPredicted) / float64(len(testData))\n",
    "    }\n",
    "\n",
    "    return mAE, nil\n",
    "}"
   ]
  },
  {
   "cell_type": "code",
   "execution_count": 26,
   "id": "9abafa55-89fc-4a76-b139-773b73a8d569",
   "metadata": {},
   "outputs": [
    {
     "name": "stdout",
     "output_type": "stream",
     "text": [
      "MAE = 1.25\n",
      "\n"
     ]
    }
   ],
   "source": [
    "%%\n",
    "mAE, err := evaluasi(\"./01-shuffle-test.csv\")\n",
    "if err != nil {\n",
    "    log.Fatal(err)\n",
    "}\n",
    "\n",
    "fmt.Printf(\"MAE = %0.2f\\n\\n\", mAE)"
   ]
  },
  {
   "cell_type": "markdown",
   "id": "bc4ff3ed-2579-4c99-acde-18175f0a3ea7",
   "metadata": {},
   "source": [
    "Perlu diperhatikan bahwa menambahkan Iklan di Surat Kabar ke dalam model tidak benar-benar meningkatkan MAE (Mean Absolute Error) kita. Oleh karena itu, menambahkan variabel ini bukanlah keputusan yang baik dalam kasus ini. Hal ini dikarenakan penambahan variabel ini meningkatkan kompleksitas model tanpa memberikan perubahan signifikan pada performa model kita.\n",
    "\n",
    "Setiap peningkatan kompleksitas atau kecanggihan yang Anda tambahkan ke model harus disertai dengan justifikasi yang terukur. Menggunakan model yang canggih hanya karena menarik secara intelektual dapat menimbulkan masalah di kemudian hari."
   ]
  }
 ],
 "metadata": {
  "kernelspec": {
   "display_name": "Go (gonb)",
   "language": "go",
   "name": "gonb"
  },
  "language_info": {
   "codemirror_mode": "",
   "file_extension": ".go",
   "mimetype": "",
   "name": "go",
   "nbconvert_exporter": "",
   "pygments_lexer": "",
   "version": "go1.22.0"
  }
 },
 "nbformat": 4,
 "nbformat_minor": 5
}
