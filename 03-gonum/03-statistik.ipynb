{
 "cells": [
  {
   "cell_type": "markdown",
   "id": "c4ee9565-818d-476e-976b-29034a1c0bfd",
   "metadata": {},
   "source": [
    "# Statistika\n",
    "\n",
    "## Ukuran Pemusatan Data\n",
    "\n",
    "Ukuran pemusatan data meliputi rata-rata, mode dan median. Untuk mencari-nya kita akan menggabungkan library dataframe untuk membaca data dari file CSV, kemudian diteruskan dengan gonum untuk menghitung rata-rata, mode dan median. "
   ]
  },
  {
   "cell_type": "code",
   "execution_count": 20,
   "id": "d9e8a2ad-490b-40f1-adab-7b398ccd93c1",
   "metadata": {},
   "outputs": [],
   "source": [
    "import (\n",
    "    \"sort\"\n",
    "    \"github.com/go-gota/gota/dataframe\"\n",
    "    \"gonum.org/v1/gonum/stat\"\n",
    ")\n",
    "\n",
    "func getDataframe(file string) (dataframe.DataFrame, error) {\n",
    "    var df dataframe.DataFrame \n",
    "    f, err := os.Open(file)\n",
    "    if err != nil {\n",
    "        return df, err\n",
    "    }\n",
    "    defer f.Close()\n",
    "\n",
    "    return dataframe.ReadCSV(f), nil\n",
    "}"
   ]
  },
  {
   "cell_type": "code",
   "execution_count": 25,
   "id": "70206b36-dc82-466b-bec9-07c2d7095f03",
   "metadata": {},
   "outputs": [
    {
     "name": "stdout",
     "output_type": "stream",
     "text": [
      "[4.3 4.4 4.4 4.4 4.5 4.6 4.6 4.6 4.6 4.7 4.7 4.8 4.8 4.8 4.8 4.8 4.9 4.9 4.9 4.9 4.9 4.9 5 5 5 5 5 5 5 5 5 5 5.1 5.1 5.1 5.1 5.1 5.1 5.1 5.1 5.1 5.2 5.2 5.2 5.2 5.3 5.4 5.4 5.4 5.4 5.4 5.4 5.5 5.5 5.5 5.5 5.5 5.5 5.5 5.6 5.6 5.6 5.6 5.6 5.6 5.7 5.7 5.7 5.7 5.7 5.7 5.7 5.7 5.8 5.8 5.8 5.8 5.8 5.8 5.8 5.9 5.9 5.9 6 6 6 6 6 6 6.1 6.1 6.1 6.1 6.1 6.1 6.2 6.2 6.2 6.2 6.3 6.3 6.3 6.3 6.3 6.3 6.3 6.3 6.3 6.4 6.4 6.4 6.4 6.4 6.4 6.4 6.5 6.5 6.5 6.5 6.5 6.6 6.6 6.7 6.7 6.7 6.7 6.7 6.7 6.7 6.7 6.8 6.8 6.8 6.9 6.9 6.9 6.9 7 7.1 7.2 7.2 7.2 7.3 7.4 7.6 7.7 7.7 7.7 7.7 7.9]\n",
      "\n",
      "Sepal Length Summary Statistics:\n",
      "Mean value: 5.84\n",
      "Mode value: 5.00\n",
      "Mode count: 10\n",
      "Median value: 5.80\n",
      "\n"
     ]
    }
   ],
   "source": [
    "%%\n",
    "df, err := getDataframe(\"../data/iris.csv\")\n",
    "if err != nil {\n",
    "    fmt.Println(err)\n",
    "    return\n",
    "}\n",
    "\n",
    "sepalLength := df.Col(\"Sepal Length\").Float() \n",
    "// Untuk mencari median di gonum, data perlu diurutkan terlebih dahulu\n",
    "sort.Float64s(sepalLength)\n",
    "fmt.Println(sepalLength)\n",
    "\n",
    "mean := stat.Mean(sepalLength, nil) \n",
    "mode, modeCount := stat.Mode(sepalLength, nil) \n",
    "median := stat.Quantile(0.5, stat.Empirical, sepalLength, nil)\n",
    "\n",
    "fmt.Printf(\"\\nSepal Length Summary Statistics:\\n\") \n",
    "fmt.Printf(\"Mean value: %0.2f\\n\", mean) \n",
    "fmt.Printf(\"Mode value: %0.2f\\n\", mode)\n",
    "fmt.Printf(\"Mode count: %d\\n\", int(modeCount)) \n",
    "fmt.Printf(\"Median value: %0.2f\\n\\n\", median)"
   ]
  },
  {
   "cell_type": "markdown",
   "id": "d7d90222-1d53-446c-9541-6cbe7c505226",
   "metadata": {},
   "source": [
    "Mean, median dan mode pada \"Sepal Length\" mempunyai nilai yang mirip. Ini menandakan bahwa Sepal Length terdistribusi secara normal."
   ]
  },
  {
   "cell_type": "code",
   "execution_count": 26,
   "id": "60778cef-4324-4009-909b-1cdd0a495c64",
   "metadata": {},
   "outputs": [
    {
     "name": "stdout",
     "output_type": "stream",
     "text": [
      "[1 1.1 1.2 1.2 1.3 1.3 1.3 1.3 1.3 1.3 1.3 1.4 1.4 1.4 1.4 1.4 1.4 1.4 1.4 1.4 1.4 1.4 1.4 1.5 1.5 1.5 1.5 1.5 1.5 1.5 1.5 1.5 1.5 1.5 1.5 1.5 1.5 1.6 1.6 1.6 1.6 1.6 1.6 1.6 1.7 1.7 1.7 1.7 1.9 1.9 3 3.3 3.3 3.5 3.5 3.6 3.7 3.8 3.9 3.9 3.9 4 4 4 4 4 4.1 4.1 4.1 4.2 4.2 4.2 4.2 4.3 4.3 4.4 4.4 4.4 4.4 4.5 4.5 4.5 4.5 4.5 4.5 4.5 4.5 4.6 4.6 4.6 4.7 4.7 4.7 4.7 4.7 4.8 4.8 4.8 4.8 4.9 4.9 4.9 4.9 4.9 5 5 5 5 5.1 5.1 5.1 5.1 5.1 5.1 5.1 5.1 5.2 5.2 5.3 5.3 5.4 5.4 5.5 5.5 5.5 5.6 5.6 5.6 5.6 5.6 5.6 5.7 5.7 5.7 5.8 5.8 5.8 5.9 5.9 6 6 6.1 6.1 6.1 6.3 6.4 6.6 6.7 6.7 6.9]\n",
      "\n",
      "Sepal Length Summary Statistics:\n",
      "Mean value: 3.76\n",
      "Mode value: 1.50\n",
      "Mode count: 14\n",
      "Median value: 4.30\n",
      "\n"
     ]
    }
   ],
   "source": [
    "%%\n",
    "df, err := getDataframe(\"../data/iris.csv\")\n",
    "if err != nil {\n",
    "    fmt.Println(err)\n",
    "    return\n",
    "}\n",
    "\n",
    "petalLength := df.Col(\"Petal Length\").Float() \n",
    "// Untuk mencari median di gonum, data perlu diurutkan terlebih dahulu\n",
    "sort.Float64s(petalLength)\n",
    "fmt.Println(petalLength)\n",
    "\n",
    "mean := stat.Mean(petalLength, nil) \n",
    "mode, modeCount := stat.Mode(petalLength, nil) \n",
    "median := stat.Quantile(0.5, stat.Empirical, petalLength, nil)\n",
    "\n",
    "fmt.Printf(\"\\nSepal Length Summary Statistics:\\n\") \n",
    "fmt.Printf(\"Mean value: %0.2f\\n\", mean) \n",
    "fmt.Printf(\"Mode value: %0.2f\\n\", mode)\n",
    "fmt.Printf(\"Mode count: %d\\n\", int(modeCount)) \n",
    "fmt.Printf(\"Median value: %0.2f\\n\\n\", median)"
   ]
  },
  {
   "cell_type": "markdown",
   "id": "47d1d981-2bf0-4690-a7cc-7bdc8c838c1c",
   "metadata": {},
   "source": [
    "Mean, median dan mode pada \"Petal Length\" mempunyai nilai yang tidak terlalu dekat. Ini menandakan bahwa Petal Length terdistribusi secara miring (skewed distribution).\n",
    "\n",
    "## Ukuran Penyebaran Data\n",
    "\n",
    "Ukuran penyebaran data meliputi maksimum, minimum, range, varian, standar deviasi, dan quantile/quartil. "
   ]
  },
  {
   "cell_type": "code",
   "execution_count": 29,
   "id": "d396cd2e-10d8-4515-870e-a3e2700f76d6",
   "metadata": {},
   "outputs": [
    {
     "name": "stdout",
     "output_type": "stream",
     "text": [
      "\n",
      "Sepal Length Summary Statistics:\n",
      "Max value: 7.90\n",
      "Min value: 4.30\n",
      "Range value: 3.60\n",
      "Variance value: 0.69\n",
      "Std Dev value: 0.83\n",
      "25 Quantile: 5.10\n",
      "75 Quantile: 6.40\n",
      "\n"
     ]
    }
   ],
   "source": [
    "%%\n",
    "df, err := getDataframe(\"../data/iris.csv\")\n",
    "if err != nil {\n",
    "    fmt.Println(err)\n",
    "    return\n",
    "}\n",
    "\n",
    "sepalLength := df.Col(\"Sepal Length\").Float() \n",
    "max := floats.Max(sepalLength)\n",
    "min := floats.Min(sepalLength)\n",
    "variance := stat.Variance(sepalLength, nil)\n",
    "stddev := math.Sqrt(variance)\n",
    "\n",
    "sort.Float64s(sepalLength)\n",
    "quant25 := stat.Quantile(0.25, stat.Empirical, sepalLength, nil)\n",
    "quant75 := stat.Quantile(0.75, stat.Empirical, sepalLength, nil)\n",
    "\n",
    "fmt.Printf(\"\\nSepal Length Summary Statistics:\\n\") \n",
    "fmt.Printf(\"Max value: %0.2f\\n\", max)\n",
    "fmt.Printf(\"Min value: %0.2f\\n\", min)\n",
    "fmt.Printf(\"Range value: %0.2f\\n\", max-min)\n",
    "fmt.Printf(\"Variance value: %0.2f\\n\", variance) \n",
    "fmt.Printf(\"Std Dev value: %0.2f\\n\", stddev)\n",
    "fmt.Printf(\"25 Quantile: %0.2f\\n\", quant25) \n",
    "fmt.Printf(\"75 Quantile: %0.2f\\n\\n\", quant75)"
   ]
  }
 ],
 "metadata": {
  "kernelspec": {
   "display_name": "Go (gonb)",
   "language": "go",
   "name": "gonb"
  },
  "language_info": {
   "codemirror_mode": "",
   "file_extension": ".go",
   "mimetype": "",
   "name": "go",
   "nbconvert_exporter": "",
   "pygments_lexer": "",
   "version": "go1.22.0"
  }
 },
 "nbformat": 4,
 "nbformat_minor": 5
}
