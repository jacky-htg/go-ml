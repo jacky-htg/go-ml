{
 "cells": [
  {
   "cell_type": "markdown",
   "id": "8fd5e67d-bbc7-449c-80b3-00b2d413a000",
   "metadata": {},
   "source": [
    "# Matrik"
   ]
  },
  {
   "cell_type": "code",
   "execution_count": 3,
   "id": "70e7ee3d-62b3-41d2-8c9b-c25c751d5615",
   "metadata": {},
   "outputs": [],
   "source": [
    "import \"gonum.org/v1/gonum/mat\"\n",
    "\n",
    "func matPrint(X mat.Matrix) {\n",
    " fa := mat.Formatted(X, mat.Prefix(\"\"), mat.Squeeze())\n",
    " fmt.Printf(\"%v\\n\", fa)\n",
    "}"
   ]
  },
  {
   "cell_type": "code",
   "execution_count": 4,
   "id": "8bf7c315-bbbe-484e-91bd-f4f5434c2a01",
   "metadata": {},
   "outputs": [
    {
     "name": "stdout",
     "output_type": "stream",
     "text": [
      "⎡ 1.2  -5.7⎤\n",
      "⎣-2.4   7.3⎦\n"
     ]
    }
   ],
   "source": [
    "%%\n",
    "a := mat.NewDense(2, 2, []float64{\n",
    "    1.2, -5.7, \n",
    "    -2.4, 7.3,\n",
    "})\n",
    "matPrint(a)"
   ]
  },
  {
   "cell_type": "markdown",
   "id": "2208471a-a078-4157-b05d-c6c6034d7abb",
   "metadata": {},
   "source": [
    "## View Elemen"
   ]
  },
  {
   "cell_type": "code",
   "execution_count": 5,
   "id": "701fd376-bfb5-49ad-a77a-547affadb7ab",
   "metadata": {},
   "outputs": [
    {
     "name": "stdout",
     "output_type": "stream",
     "text": [
      "1.2\n",
      "-5.7\n",
      "-2.4\n",
      "7.3\n"
     ]
    }
   ],
   "source": [
    "%%\n",
    "a := mat.NewDense(2, 2, []float64{\n",
    "    1.2, -5.7, \n",
    "    -2.4, 7.3,\n",
    "})\n",
    "fmt.Println(a.At(0,0))\n",
    "fmt.Println(a.At(0,1))\n",
    "fmt.Println(a.At(1,0))\n",
    "fmt.Println(a.At(1,1))\n"
   ]
  },
  {
   "cell_type": "markdown",
   "id": "185506a6-f916-42fd-9aaa-100ae5bc0a87",
   "metadata": {},
   "source": [
    "## Set Elemen"
   ]
  },
  {
   "cell_type": "code",
   "execution_count": 6,
   "id": "7d9fb56e-dae0-4feb-958a-3ce1ffffac90",
   "metadata": {},
   "outputs": [
    {
     "name": "stdout",
     "output_type": "stream",
     "text": [
      "⎡ 1.3  -5.7⎤\n",
      "⎣-2.4   7.3⎦\n"
     ]
    }
   ],
   "source": [
    "%%\n",
    "a := mat.NewDense(2, 2, []float64{\n",
    "    1.2, -5.7, \n",
    "    -2.4, 7.3,\n",
    "})\n",
    "a.Set(0,0, 1.3)\n",
    "matPrint(a)"
   ]
  },
  {
   "cell_type": "markdown",
   "id": "b43be323-7c23-4d3e-a184-db671af191c6",
   "metadata": {},
   "source": [
    "## View Baris dan Kolom"
   ]
  },
  {
   "cell_type": "code",
   "execution_count": 7,
   "id": "c0651285-940a-47ee-b0aa-040aef3204c2",
   "metadata": {},
   "outputs": [
    {
     "name": "stdout",
     "output_type": "stream",
     "text": [
      "⎡ 1.2⎤\n",
      "⎣-5.7⎦\n",
      "⎡-2.4⎤\n",
      "⎣ 7.3⎦\n",
      "⎡ 1.2⎤\n",
      "⎣-2.4⎦\n",
      "⎡-5.7⎤\n",
      "⎣ 7.3⎦\n"
     ]
    }
   ],
   "source": [
    "%%\n",
    "a := mat.NewDense(2, 2, []float64{\n",
    "    1.2, -5.7, \n",
    "    -2.4, 7.3,\n",
    "})\n",
    "matPrint(a.RowView(0))\n",
    "matPrint(a.RowView(1))\n",
    "\n",
    "matPrint(a.ColView(0))\n",
    "matPrint(a.ColView(1))"
   ]
  },
  {
   "cell_type": "markdown",
   "id": "b8168e90-3325-4720-ad57-e6e86f8b21b8",
   "metadata": {},
   "source": [
    "## Set Baris dan Kolom"
   ]
  },
  {
   "cell_type": "code",
   "execution_count": 8,
   "id": "55f7a5f4-f795-461e-aa85-61a223c63f11",
   "metadata": {},
   "outputs": [
    {
     "name": "stdout",
     "output_type": "stream",
     "text": [
      "⎡ 1.2  -5.7⎤\n",
      "⎣-2.4   7.3⎦\n",
      "⎡ 1.3  -5.5⎤\n",
      "⎣-2.4   7.3⎦\n",
      "⎡ 1.4  -5.5⎤\n",
      "⎣-2.5   7.3⎦\n"
     ]
    }
   ],
   "source": [
    "%%\n",
    "a := mat.NewDense(2, 2, []float64{\n",
    "    1.2, -5.7, \n",
    "    -2.4, 7.3,\n",
    "})\n",
    "matPrint(a)\n",
    "\n",
    "a.SetRow(0, []float64{1.3, -5.5})\n",
    "matPrint(a)\n",
    "\n",
    "a.SetCol(0, []float64{1.4, -2.5})\n",
    "matPrint(a)"
   ]
  },
  {
   "cell_type": "markdown",
   "id": "431c0ce8-923f-4b15-826c-7c83c7cefd87",
   "metadata": {},
   "source": [
    "## Operasi Matrik\n",
    "\n",
    "### Penjumlahan Matrik"
   ]
  },
  {
   "cell_type": "code",
   "execution_count": 9,
   "id": "bfa3d5d2-004f-46d6-9c69-e72fdceb96fe",
   "metadata": {},
   "outputs": [
    {
     "name": "stdout",
     "output_type": "stream",
     "text": [
      "⎡ 1.2  -5.7⎤\n",
      "⎣-2.4   7.3⎦\n",
      "⎡ 2.4  -11.4⎤\n",
      "⎣-4.8   14.6⎦\n"
     ]
    }
   ],
   "source": [
    "%%\n",
    "a := mat.NewDense(2, 2, []float64{\n",
    "    1.2, -5.7, \n",
    "    -2.4, 7.3,\n",
    "})\n",
    "matPrint(a)\n",
    "\n",
    "b := mat.NewDense(2, 2, nil)\n",
    "b.Add(a, a)\n",
    "matPrint(b)"
   ]
  },
  {
   "cell_type": "markdown",
   "id": "069e7ad3-4f5b-4fbd-bf0c-2d19886f6474",
   "metadata": {},
   "source": [
    "### Pengurangan Matrik"
   ]
  },
  {
   "cell_type": "code",
   "execution_count": 10,
   "id": "5189e4b3-bf9e-49e5-b297-ed13b4042663",
   "metadata": {},
   "outputs": [
    {
     "name": "stdout",
     "output_type": "stream",
     "text": [
      "⎡ 1.2  -5.7⎤\n",
      "⎣-2.4   7.3⎦\n",
      "⎡0  0⎤\n",
      "⎣0  0⎦\n"
     ]
    }
   ],
   "source": [
    "%%\n",
    "a := mat.NewDense(2, 2, []float64{\n",
    "    1.2, -5.7, \n",
    "    -2.4, 7.3,\n",
    "})\n",
    "matPrint(a)\n",
    "\n",
    "b := mat.NewDense(2, 2, nil)\n",
    "b.Sub(a, a)\n",
    "matPrint(b)"
   ]
  },
  {
   "cell_type": "markdown",
   "id": "22cfe820-0760-427a-abe0-2071caf3cf3a",
   "metadata": {},
   "source": [
    "### Perkalian Skalar"
   ]
  },
  {
   "cell_type": "code",
   "execution_count": 11,
   "id": "dc7eb113-e4e3-4535-b6ef-6c67f1eb4e65",
   "metadata": {},
   "outputs": [
    {
     "name": "stdout",
     "output_type": "stream",
     "text": [
      "⎡ 1.2  -5.7⎤\n",
      "⎣-2.4   7.3⎦\n",
      "⎡ 2.4  -11.4⎤\n",
      "⎣-4.8   14.6⎦\n"
     ]
    }
   ],
   "source": [
    "%%\n",
    "a := mat.NewDense(2, 2, []float64{\n",
    "    1.2, -5.7, \n",
    "    -2.4, 7.3,\n",
    "})\n",
    "matPrint(a)\n",
    "\n",
    "a.Scale(2, a)\n",
    "matPrint(a)"
   ]
  },
  {
   "cell_type": "markdown",
   "id": "c962dd42-0412-4622-bd3e-949ed328c050",
   "metadata": {},
   "source": [
    "### Perkalian Matrik"
   ]
  },
  {
   "cell_type": "code",
   "execution_count": 12,
   "id": "1209c436-d25e-4779-80bb-83e117136c8e",
   "metadata": {},
   "outputs": [
    {
     "name": "stdout",
     "output_type": "stream",
     "text": [
      "⎡1  2⎤\n",
      "⎣3  4⎦\n",
      "⎡ 7  10⎤\n",
      "⎣15  22⎦\n",
      "⎡ 5  11⎤\n",
      "⎣11  25⎦\n",
      "⎡27   61⎤\n",
      "⎣59  133⎦\n"
     ]
    }
   ],
   "source": [
    "%%\n",
    "a := mat.NewDense(2, 2, []float64{\n",
    "    1, 2, \n",
    "    3, 4,\n",
    "})\n",
    "matPrint(a)\n",
    "\n",
    "b := mat.NewDense(2,2, nil)\n",
    "b.Product(a, a)\n",
    "matPrint(b)\n",
    "\n",
    "c := mat.NewDense(2,2, nil)\n",
    "c.Product(a, a.T())\n",
    "matPrint(c)\n",
    "\n",
    "d := mat.NewDense(2,2, nil)\n",
    "d.Product(a, a, a.T())\n",
    "matPrint(d)"
   ]
  },
  {
   "cell_type": "markdown",
   "id": "de063164-2707-4310-81ee-bc70d2ba2ba0",
   "metadata": {},
   "source": [
    "### Manipulasi Elemen Matrik dengan Fungsi Kustom "
   ]
  },
  {
   "cell_type": "code",
   "execution_count": 17,
   "id": "bcb8f973-131d-47ca-8bb7-898e44508f3b",
   "metadata": {},
   "outputs": [
    {
     "name": "stdout",
     "output_type": "stream",
     "text": [
      "0 0 1\n",
      "0 1 2\n",
      "1 0 3\n",
      "1 1 4\n",
      "⎡2  4⎤\n",
      "⎣6  8⎦\n"
     ]
    }
   ],
   "source": [
    "func double(i, j int, v float64) float64 {\n",
    "    fmt.Println(i, j, v)\n",
    "    return 2 * v\n",
    "}\n",
    "\n",
    "%%\n",
    "a := mat.NewDense(2, 2, []float64{\n",
    "    1, 2, \n",
    "    3, 4,\n",
    "})\n",
    "a.Apply(double, a)\n",
    "matPrint(a)"
   ]
  },
  {
   "cell_type": "markdown",
   "id": "79dbc967-61fa-419e-a9b5-82add91c3fc6",
   "metadata": {},
   "source": [
    "### Determinan\n",
    "Pada contoh matrik ordo 2x2 di bawah ini, determinan-nya adalah (1x4) - (3 *2) = 4 - 6 = -2."
   ]
  },
  {
   "cell_type": "code",
   "execution_count": 21,
   "id": "dbcb4849-cd91-4da9-8c91-7a435b0b5137",
   "metadata": {},
   "outputs": [
    {
     "name": "stdout",
     "output_type": "stream",
     "text": [
      "-2\n"
     ]
    }
   ],
   "source": [
    "%%\n",
    "a := mat.NewDense(2, 2, []float64{\n",
    "    1, 2, \n",
    "    3, 4,\n",
    "})\n",
    "fmt.Println(mat.Det(a))"
   ]
  },
  {
   "cell_type": "markdown",
   "id": "f032833a-93bd-4829-ab81-18638006456e",
   "metadata": {},
   "source": [
    "### Trace\n",
    "\n",
    "Trace dalam konteks matriks adalah penjumlahan elemen-elemen diagonal utama. Diagonal utama adalah diagonal yang membentang dari sudut kiri atas ke sudut kanan bawah matriks. Pada contoh di bawah ini, diagonal matrik adalah angka 1, 5, dan 9. Maka Trace = 1 + 5 + 9 = 15."
   ]
  },
  {
   "cell_type": "code",
   "execution_count": 20,
   "id": "23cf54aa-067e-440c-9910-be848f84400f",
   "metadata": {},
   "outputs": [
    {
     "name": "stdout",
     "output_type": "stream",
     "text": [
      "15\n"
     ]
    }
   ],
   "source": [
    "%%\n",
    "a := mat.NewDense(3, 3, []float64{\n",
    "    1, 2, 3, \n",
    "    4, 5, 6,\n",
    "    7, 8, 9,\n",
    "})\n",
    "fmt.Println(mat.Trace(a))"
   ]
  }
 ],
 "metadata": {
  "kernelspec": {
   "display_name": "Go (gonb)",
   "language": "go",
   "name": "gonb"
  },
  "language_info": {
   "codemirror_mode": "",
   "file_extension": ".go",
   "mimetype": "",
   "name": "go",
   "nbconvert_exporter": "",
   "pygments_lexer": "",
   "version": "go1.22.0"
  }
 },
 "nbformat": 4,
 "nbformat_minor": 5
}
