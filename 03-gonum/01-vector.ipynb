{
 "cells": [
  {
   "cell_type": "markdown",
   "id": "ebe351f5-ea32-4a1d-8149-b5c33682dfb3",
   "metadata": {},
   "source": [
    "# Vektor\n",
    "Sebuah vektor adalah kumpulan terurut dari angka-angka yang disusun dalam baris (dari kiri ke kanan) atau kolom (dari atas ke bawah). Setiap angka dalam vektor disebut sebagai komponen.\n",
    "\n",
    "## Init Vektor"
   ]
  },
  {
   "cell_type": "code",
   "execution_count": 97,
   "id": "0fec03d4-6e96-4e90-b874-c2aa787b0e66",
   "metadata": {},
   "outputs": [],
   "source": [
    "import \"gonum.org/v1/gonum/mat\"\n",
    "\n",
    "func matPrint(X mat.Matrix) {\n",
    " fa := mat.Formatted(X, mat.Prefix(\"\"), mat.Squeeze())\n",
    " fmt.Printf(\"%v\\n\", fa)\n",
    "}"
   ]
  },
  {
   "cell_type": "code",
   "execution_count": 56,
   "id": "10a30b27-983b-4c6e-9810-5ccc5149236d",
   "metadata": {},
   "outputs": [
    {
     "name": "stdout",
     "output_type": "stream",
     "text": [
      "&{{3 [21 15.2 11] 1}}\n",
      "⎡  21⎤\n",
      "⎢15.2⎥\n",
      "⎣  11⎦\n"
     ]
    }
   ],
   "source": [
    "%%\n",
    "myVector := mat.NewVecDense(3, []float64{21.0, 15.2, 11.0})\n",
    "fmt.Println(myVector)\n",
    "matPrint(myVector)"
   ]
  },
  {
   "cell_type": "markdown",
   "id": "a5320776-a9ee-4883-b1fb-a1410047247d",
   "metadata": {},
   "source": [
    "## Set Value & Get Value"
   ]
  },
  {
   "cell_type": "code",
   "execution_count": 57,
   "id": "b01199eb-bca5-432e-a000-d708aea6c79e",
   "metadata": {},
   "outputs": [
    {
     "name": "stdout",
     "output_type": "stream",
     "text": [
      "myVector\n",
      "⎡  21⎤\n",
      "⎢15.2⎥\n",
      "⎣  11⎦\n",
      "15.2\n",
      "15.2\n",
      "myVector setelah diupdate\n",
      "⎡  21⎤\n",
      "⎢12.5⎥\n",
      "⎣  11⎦\n"
     ]
    }
   ],
   "source": [
    "%%\n",
    "myVector := mat.NewVecDense(3, []float64{21.0, 15.2, 11.0})\n",
    "fmt.Println(\"myVector\")\n",
    "matPrint(myVector)\n",
    "\n",
    "fmt.Println(myVector.At(1, 0))\n",
    "\n",
    "fmt.Println(myVector.AtVec(1))\n",
    "\n",
    "myVector.SetVec(1, 12.5)\n",
    "fmt.Println(\"myVector setelah diupdate\")\n",
    "matPrint(myVector)"
   ]
  },
  {
   "cell_type": "markdown",
   "id": "4eecfef6-b896-4539-a17a-7a903d3aeb6b",
   "metadata": {},
   "source": [
    "## Operasi Aritmatika pada Vektor"
   ]
  },
  {
   "cell_type": "markdown",
   "id": "e3ec8620-9b2d-42a2-acb8-e5c4475acb79",
   "metadata": {},
   "source": [
    "### Penjumlahan Vektor"
   ]
  },
  {
   "cell_type": "code",
   "execution_count": 58,
   "id": "104c4805-297e-44a4-b4d5-1950143d827c",
   "metadata": {},
   "outputs": [
    {
     "name": "stdout",
     "output_type": "stream",
     "text": [
      "⎡22⎤\n",
      "⎢18⎥\n",
      "⎣14⎦\n"
     ]
    }
   ],
   "source": [
    "%%\n",
    "vA := mat.NewVecDense(3, []float64{21.0, 15.2, 11.0})\n",
    "vB := mat.NewVecDense(3, []float64{1, 2.8, 3})\n",
    "myVector := mat.NewVecDense(3, nil)\n",
    "myVector.AddVec(vA, vB)\n",
    "matPrint(myVector)"
   ]
  },
  {
   "cell_type": "markdown",
   "id": "f91fb0e4-bcbc-4862-9cbd-17c4328157e9",
   "metadata": {},
   "source": [
    "### Pengurangan Vektor"
   ]
  },
  {
   "cell_type": "code",
   "execution_count": 59,
   "id": "0fef078d-2595-467a-b290-a31422a5e1fc",
   "metadata": {},
   "outputs": [
    {
     "name": "stdout",
     "output_type": "stream",
     "text": [
      "⎡20⎤\n",
      "⎢13⎥\n",
      "⎣ 8⎦\n"
     ]
    }
   ],
   "source": [
    "%%\n",
    "vA := mat.NewVecDense(3, []float64{21.0, 15.2, 11.0})\n",
    "vB := mat.NewVecDense(3, []float64{1, 2.2, 3})\n",
    "myVector := mat.NewVecDense(3, nil)\n",
    "myVector.SubVec(vA, vB)\n",
    "matPrint(myVector)"
   ]
  },
  {
   "cell_type": "markdown",
   "id": "69b32bc4-6288-4933-a77e-8320d25c6789",
   "metadata": {},
   "source": [
    "### Perkalian Skalar Vektor"
   ]
  },
  {
   "cell_type": "code",
   "execution_count": 60,
   "id": "0e4d866a-b33d-419d-8db2-894988070253",
   "metadata": {},
   "outputs": [
    {
     "name": "stdout",
     "output_type": "stream",
     "text": [
      "⎡  42⎤\n",
      "⎢30.4⎥\n",
      "⎣  22⎦\n"
     ]
    }
   ],
   "source": [
    "%%\n",
    "myVector := mat.NewVecDense(3, []float64{21.0, 15.2, 11.0})\n",
    "myVector.ScaleVec(2, myVector)\n",
    "matPrint(myVector)"
   ]
  },
  {
   "cell_type": "markdown",
   "id": "a0d8b68b-70a9-4437-91f9-6882f324da98",
   "metadata": {},
   "source": [
    "### Penjumlahan dan Perkalian Skalar"
   ]
  },
  {
   "cell_type": "code",
   "execution_count": 61,
   "id": "c65fad9e-36fd-4c34-96a6-806d0c0a6ed6",
   "metadata": {},
   "outputs": [
    {
     "name": "stdout",
     "output_type": "stream",
     "text": [
      "vA + (2 * vB)\n",
      "⎡  23⎤\n",
      "⎢19.6⎥\n",
      "⎣  17⎦\n"
     ]
    }
   ],
   "source": [
    "%%\n",
    "vA := mat.NewVecDense(3, []float64{21.0, 15.2, 11.0})\n",
    "vB := mat.NewVecDense(3, []float64{1, 2.2, 3})\n",
    "myVector := mat.NewVecDense(3, nil)\n",
    "myVector.AddScaledVec(vA, 2, vB)\n",
    "fmt.Println(\"vA + (2 * vB)\")\n",
    "matPrint(myVector)"
   ]
  },
  {
   "cell_type": "markdown",
   "id": "ff1ed7f2-306b-4161-acd2-5b9646e4dae2",
   "metadata": {},
   "source": [
    "### Perkalian Vektor"
   ]
  },
  {
   "cell_type": "code",
   "execution_count": 65,
   "id": "a85db1b3-0414-4a21-827a-22a729a65452",
   "metadata": {},
   "outputs": [
    {
     "name": "stdout",
     "output_type": "stream",
     "text": [
      "Vector A\n",
      "⎡  21⎤\n",
      "⎢15.2⎥\n",
      "⎣  11⎦\n",
      "Vector B\n",
      "⎡ -1⎤\n",
      "⎢2.2⎥\n",
      "⎣  3⎦\n",
      "vector A dot vector B:  45.44\n"
     ]
    }
   ],
   "source": [
    "%%\n",
    "vA := mat.NewVecDense(3, []float64{21.0, 15.2, 11.0})\n",
    "vB := mat.NewVecDense(3, []float64{-1, 2.2, 3})\n",
    "dotProduct := mat.Dot(vA, vB)\n",
    "fmt.Println(\"Vector A\")\n",
    "matPrint(vA)\n",
    "fmt.Println(\"Vector B\")\n",
    "matPrint(vB)\n",
    "fmt.Println(\"vector A dot vector B: \", dotProduct)"
   ]
  },
  {
   "cell_type": "markdown",
   "id": "0a5cd4bb-c21c-4c75-b712-16d544b30f90",
   "metadata": {},
   "source": [
    "### Perkalian Silang\n",
    "Saya tidak menemukan fungsi untuk perkalian silang vektor di gonum, terpaksa saya membuatnya sendiri."
   ]
  },
  {
   "cell_type": "code",
   "execution_count": 111,
   "id": "433a2e89-f06c-4aba-bea1-703fa100213c",
   "metadata": {},
   "outputs": [
    {
     "name": "stdout",
     "output_type": "stream",
     "text": [
      "Vector A\n",
      "⎡  21⎤\n",
      "⎢15.2⎥\n",
      "⎣  11⎦\n",
      "Vector B\n",
      "⎡ -1⎤\n",
      "⎢2.2⎥\n",
      "⎣  3⎦\n",
      "vector A cross vector B: \n",
      "⎡ 21.39999999999999⎤\n",
      "⎢               -74⎥\n",
      "⎣61.400000000000006⎦\n"
     ]
    }
   ],
   "source": [
    "func cross(vA, vB *mat.VecDense) *mat.VecDense {\n",
    "\tresult := mat.NewVecDense(3, nil)\n",
    "\tax, ay, az := vA.AtVec(0), vA.AtVec(1), vA.AtVec(2)\n",
    "    bx, by, bz := vB.AtVec(0), vB.AtVec(1), vB.AtVec(2)\n",
    "\n",
    "\tresult.SetVec(0, ay*bz-az*by)\n",
    "\tresult.SetVec(1, az*bx-ax*bz)\n",
    "\tresult.SetVec(2, ax*by-ay*bx)\n",
    "\n",
    "\treturn result\n",
    "}\n",
    "\n",
    "%%\n",
    "vA := mat.NewVecDense(3, []float64{21.0, 15.2, 11.0})\n",
    "vB := mat.NewVecDense(3, []float64{-1, 2.2, 3})\n",
    "\n",
    "crossProduct := cross(vA, vB)\n",
    "fmt.Println(\"Vector A\")\n",
    "matPrint(vA)\n",
    "fmt.Println(\"Vector B\")\n",
    "matPrint(vB)\n",
    "fmt.Println(\"vector A cross vector B: \")\n",
    "matPrint(crossProduct)"
   ]
  },
  {
   "cell_type": "markdown",
   "id": "808b211f-7bf0-4e38-b471-94b91a4f571d",
   "metadata": {},
   "source": [
    "## Jarak\n",
    "\n",
    "Untuk mendapatkan panjang dan kapasitas vektor, gunakan fungsi Len() dan Cap(). Sementara untuk mendapatkan jarak bisa menggunakan fungsi Norm(). Fungsi ini digunakan untuk menghitung norma atau panjang dari vektor. Norma dari suatu vektor adalah ukuran atau magnitudo dari vektor tersebut dalam ruang Euclidean atau ruang dimensi lainnya. Norma vektor umumnya digunakan untuk mengukur jarak atau kesamaan antara vektor-vektor tersebut.\n",
    "\n",
    "Dalam Gonum, terdapat beberapa jenis norma yang dapat dihitung menggunakan fungsi Norm(), antara lain:\n",
    "\n",
    "* Norma L1 (norma Manhattan): Ini adalah jumlah absolut dari semua komponen vektor.\n",
    "* Norma L2 (norma Euclidean): Ini adalah akar kuadrat dari jumlah kuadrat semua komponen vektor.\n",
    "* Norma maksimum (norma Chebyshev): Ini adalah nilai absolut maksimum dari semua komponen vektor.\n",
    "\n",
    "Sayangnya saya tidak menemukan pemnghitungan untuk case Norma Frobenius, yang merupakan akar kuadrat dari jumlah kuadrat semua elemen matriks."
   ]
  },
  {
   "cell_type": "code",
   "execution_count": 115,
   "id": "388244d3-779f-4d38-8909-1e6fa87bce72",
   "metadata": {},
   "outputs": [
    {
     "name": "stdout",
     "output_type": "stream",
     "text": [
      "Len 3\n",
      "Cap 3\n",
      "Jarak Manhattan :  47.2\n",
      "Jarak Euclidean:  28.160965892525773\n",
      "Jarak Chebyshev:  21\n"
     ]
    }
   ],
   "source": [
    "%%\n",
    "myVector := mat.NewVecDense(3, []float64{21.0, 15.2, 11.0})\n",
    "fmt.Println(\"Len\", myVector.Len())\n",
    "fmt.Println(\"Cap\", myVector.Cap())\n",
    "\n",
    "fmt.Println(\"Jarak Manhattan : \", mat.Norm(myVector, 1))\n",
    "fmt.Println(\"Jarak Euclidean: \", mat.Norm(myVector, 2))\n",
    "fmt.Println(\"Jarak Chebyshev: \", mat.Norm(myVector, math.Inf(1)))\n"
   ]
  },
  {
   "cell_type": "markdown",
   "id": "3d31e1a1-da33-4a3f-a150-44d2be8f68c4",
   "metadata": {},
   "source": [
    "## Other\n",
    "Dalam Gonum, tipe data VecDense memenuhi antarmuka Matrix serta vektor. Namun, perlu diingat bahwa jika Anda memilih untuk menggunakan VecDense sebagai argumen untuk fungsi-fungsi yang beroperasi pada Matrix, Gonum akan memperlakukan setiap vektor sebagai kolom, tanpa memandang konteksnya. Untuk menggunakan vektor sebagai baris, Anda dapat menggunakan metode T()."
   ]
  },
  {
   "cell_type": "code",
   "execution_count": 117,
   "id": "2e4b55f0-f1dd-42f7-887e-2889192d7d12",
   "metadata": {},
   "outputs": [
    {
     "name": "stdout",
     "output_type": "stream",
     "text": [
      "Deafult vector ditampilkan dalam kolom\n",
      "⎡  21⎤\n",
      "⎢15.2⎥\n",
      "⎣  11⎦\n",
      "Vektor bisa ditampilkan dalam bentuk baris\n",
      "[21  15.2  11]\n"
     ]
    }
   ],
   "source": [
    "%%\n",
    "myVector := mat.NewVecDense(3, []float64{21.0, 15.2, 11.0})\n",
    "fmt.Println(\"Deafult vector ditampilkan dalam kolom\")\n",
    "matPrint(myVector)\n",
    "fmt.Println(\"Vektor bisa ditampilkan dalam bentuk baris\")\n",
    "matPrint(myVector.T())"
   ]
  }
 ],
 "metadata": {
  "kernelspec": {
   "display_name": "Go (gonb)",
   "language": "go",
   "name": "gonb"
  },
  "language_info": {
   "codemirror_mode": "",
   "file_extension": ".go",
   "mimetype": "",
   "name": "go",
   "nbconvert_exporter": "",
   "pygments_lexer": "",
   "version": "go1.22.0"
  }
 },
 "nbformat": 4,
 "nbformat_minor": 5
}
